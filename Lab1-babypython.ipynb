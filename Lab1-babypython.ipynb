{
 "cells": [
  {
   "cell_type": "markdown",
   "metadata": {},
   "source": [
    "# Python and Friends\n",
    "\n",
    "This is a very quick run-through of some python syntax"
   ]
  },
  {
   "cell_type": "code",
   "execution_count": 136,
   "metadata": {},
   "outputs": [
    {
     "output_type": "execute_result",
     "data": {
      "text/plain": [
       "'2.7.18 (default, Sep  5 2020, 11:17:26) \\n[GCC 10.2.0]'"
      ]
     },
     "metadata": {},
     "execution_count": 136
    }
   ],
   "source": [
    "sys.version"
   ]
  },
  {
   "cell_type": "code",
   "execution_count": 138,
   "metadata": {},
   "outputs": [],
   "source": [
    "# The %... is an iPython thing, and is not part of the Python language.\n",
    "# In this case we're just telling the plotting library to draw things on\n",
    "# the notebook, instead of on a separate window.\n",
    "%matplotlib inline \n",
    "#this line above prepares IPython notebook for working with matplotlib\n",
    "\n",
    "# See all the \"as ...\" contructs? They're just aliasing the package names.\n",
    "# That way we can call methods like plt.plot() instead of matplotlib.pyplot.plot().\n",
    "\n",
    "import numpy as np # imports a fast numerical programming library\n",
    "import scipy as sp #imports stats functions, amongst other things\n",
    "import matplotlib as mpl # this actually imports matplotlib\n",
    "import matplotlib.cm as cm #allows us easy access to colormaps\n",
    "import matplotlib.pyplot as plt #sets up plotting under plt\n",
    "import pandas as pd #lets us handle data as dataframes\n",
    "#sets up pandas table display\n",
    "pd.set_option('display.width', 500)\n",
    "pd.set_option('display.max_columns', 100)\n",
    "pd.set_option('display.notebook_repr_html', True)\n",
    "import seaborn as sns #sets up styles and gives us more plotting options"
   ]
  },
  {
   "cell_type": "markdown",
   "metadata": {},
   "source": [
    "## The Python Language\n",
    "\n",
    "Lets talk about using Python as a calculator..."
   ]
  },
  {
   "cell_type": "code",
   "execution_count": 140,
   "metadata": {},
   "outputs": [
    {
     "output_type": "execute_result",
     "data": {
      "text/plain": [
       "3"
      ]
     },
     "metadata": {},
     "execution_count": 140
    }
   ],
   "source": [
    "1+2"
   ]
  },
  {
   "cell_type": "markdown",
   "metadata": {},
   "source": [
    "Notice integer division and floating-point error below!"
   ]
  },
  {
   "cell_type": "code",
   "execution_count": 142,
   "metadata": {},
   "outputs": [
    {
     "output_type": "execute_result",
     "data": {
      "text/plain": [
       "(0, 0.5, 9.600000000000001)"
      ]
     },
     "metadata": {},
     "execution_count": 142
    }
   ],
   "source": [
    "1/2,1.0/2.0,3*3.2"
   ]
  },
  {
   "cell_type": "markdown",
   "metadata": {},
   "source": [
    "Here is how we can print things. Something on the last line by itself is returned as the output value."
   ]
  },
  {
   "cell_type": "code",
   "execution_count": 144,
   "metadata": {},
   "outputs": [
    {
     "output_type": "stream",
     "name": "stdout",
     "text": [
      "(4.0, '\\n', 1.6666666666666667)\n"
     ]
    },
    {
     "output_type": "execute_result",
     "data": {
      "text/plain": [
       "1"
      ]
     },
     "metadata": {},
     "execution_count": 144
    }
   ],
   "source": [
    "print(1+3.0,\"\\n\",5/3.0)\n",
    "5/3"
   ]
  },
  {
   "cell_type": "markdown",
   "metadata": {},
   "source": [
    "We can obtain the type of a variable, and use boolean comparisons tontest these types."
   ]
  },
  {
   "cell_type": "code",
   "execution_count": 146,
   "metadata": {},
   "outputs": [
    {
     "output_type": "stream",
     "name": "stdout",
     "text": [
      "0.833333333333\n<type 'float'>\n"
     ]
    }
   ],
   "source": [
    "a=5.0/6.0\n",
    "print(a)\n",
    "print(type(a))"
   ]
  },
  {
   "cell_type": "code",
   "execution_count": 148,
   "metadata": {},
   "outputs": [
    {
     "output_type": "execute_result",
     "data": {
      "text/plain": [
       "True"
      ]
     },
     "metadata": {},
     "execution_count": 148
    }
   ],
   "source": [
    "import types\n",
    "isinstance(a, float)"
   ]
  },
  {
   "cell_type": "code",
   "execution_count": 150,
   "metadata": {},
   "outputs": [
    {
     "output_type": "execute_result",
     "data": {
      "text/plain": [
       "False"
      ]
     },
     "metadata": {},
     "execution_count": 150
    }
   ],
   "source": [
    "isinstance(a,int)"
   ]
  },
  {
   "cell_type": "markdown",
   "metadata": {},
   "source": [
    "## Python and Iteration (and files)\n",
    "\n",
    "In working with python I always remember: a python is a duck.\n",
    "\n",
    "What I mean is, python has a certain way of doing things. For example lets call one of these ways listiness. Listiness works on lists, dictionaries, files, and a general notion of something called an iterator.\n",
    "\n",
    "But first, lets introduce the notion of a comprehension. Its a way of constructing a list"
   ]
  },
  {
   "cell_type": "code",
   "execution_count": 152,
   "metadata": {},
   "outputs": [
    {
     "output_type": "execute_result",
     "data": {
      "text/plain": [
       "[1, 4, 9, 16, 25]"
      ]
     },
     "metadata": {},
     "execution_count": 152
    }
   ],
   "source": [
    "alist=[1,2,3,4,5]\n",
    "asquaredlist=[i*i for i in alist]\n",
    "asquaredlist"
   ]
  },
  {
   "cell_type": "markdown",
   "metadata": {},
   "source": [
    "Python has some nifty functions like `enumerate` and `zip`. The former gives a list of tuples with each tuple of the form `(index, value)`, while the latter takes elements from each list and outs them together into a tuple, thus creating a list of tuples. The first is a duck, but the second isnt."
   ]
  },
  {
   "cell_type": "code",
   "execution_count": 154,
   "metadata": {},
   "outputs": [
    {
     "output_type": "execute_result",
     "data": {
      "text/plain": [
       "(<enumerate at 0x7f754b855dc0>, [(1, 1), (2, 4), (3, 9), (4, 16), (5, 25)])"
      ]
     },
     "metadata": {},
     "execution_count": 154
    }
   ],
   "source": [
    "enumerate(asquaredlist),zip(alist, asquaredlist)"
   ]
  },
  {
   "cell_type": "markdown",
   "metadata": {},
   "source": [
    "Someone realized that design flaw and created izip."
   ]
  },
  {
   "cell_type": "code",
   "execution_count": 156,
   "metadata": {},
   "outputs": [
    {
     "output_type": "execute_result",
     "data": {
      "text/plain": [
       "[(1, 1), (2, 4), (3, 9), (4, 16), (5, 25)]"
      ]
     },
     "metadata": {},
     "execution_count": 156
    }
   ],
   "source": [
    "#from itertools import izip\n",
    "zip(alist, asquaredlist)"
   ]
  },
  {
   "cell_type": "code",
   "execution_count": 158,
   "metadata": {},
   "outputs": [
    {
     "output_type": "stream",
     "name": "stdout",
     "text": [
      "<enumerate object at 0x7f754bc4e0f0>\n"
     ]
    }
   ],
   "source": [
    "print(enumerate(asquaredlist))"
   ]
  },
  {
   "cell_type": "code",
   "execution_count": 160,
   "metadata": {},
   "outputs": [
    {
     "output_type": "execute_result",
     "data": {
      "text/plain": [
       "[(0, 1), (1, 4), (2, 9), (3, 16), (4, 25)]"
      ]
     },
     "metadata": {},
     "execution_count": 160
    }
   ],
   "source": [
    "[k for k in enumerate(asquaredlist)]"
   ]
  },
  {
   "cell_type": "markdown",
   "metadata": {},
   "source": [
    "Open files behave like lists too! Here we get each line in the file and find its length, using the comprehension syntax to put these lengths into a big list."
   ]
  },
  {
   "cell_type": "code",
   "execution_count": 162,
   "metadata": {
    "tags": [
     "outputPrepend"
    ]
   },
   "outputs": [
    {
     "output_type": "stream",
     "name": "stdout",
     "text": [
      ", 47, 2, 6, 7, 2, 8, 27, 46, 44, 48, 49, 41, 43, 51, 58, 41, 42, 41, 37, 53, 43, 2, 6, 8, 2, 8, 45, 2, 6, 9, 2, 8, 41, 45, 2, 6, 49, 40, 26, 2, 8, 18, 47, 42, 51, 46, 49, 36, 44, 46, 22, 2, 6, 22, 13, 2, 8, 45, 54, 45, 41, 45, 41, 41, 45, 43, 45, 19, 40, 48, 44, 37, 22, 45, 47, 36, 38, 41, 40, 39, 40, 48, 43, 41, 43, 47, 41, 48, 21, 44, 50, 41, 37, 43, 39, 42, 43, 37, 39, 40, 47, 48, 46, 49, 42, 41, 36, 2, 9, 2, 6, 47, 51, 43, 41, 48, 42, 34, 42, 51, 42, 42, 41, 46, 26, 46, 39, 50, 47, 2, 12, 2, 43, 36, 17, 2, 6, 31, 2, 6, 26, 2, 6, 30, 2, 6, 11, 2, 6, 34, 2, 6, 39, 2, 32, 2, 6, 26, 2, 6, 21, 2, 6, 15, 2, 6, 24, 2, 6, 23, 2, 6, 28, 2, 6, 17, 2, 6, 55, 23, 2, 15, 25, 2, 6, 49, 27, 2, 6, 52, 18, 2, 6, 35, 43, 45, 54, 41, 43, 25, 2, 6, 49, 2, 6, 38, 23, 2, 6, 30, 2, 6, 47, 52, 46, 45, 49, 45, 27, 2, 6, 30, 2, 6, 47, 2, 15, 23, 2, 6, 19, 2, 6, 11, 17, 2, 6, 27, 2, 6, 16, 2, 6, 34, 2, 6, 32, 2, 8, 19, 2, 6, 58, 52, 19, 2, 6, 28, 2, 6, 44, 20, 2, 8, 19, 2, 6, 47, 25, 41, 45, 20, 2, 8, 19, 2, 6, 55, 51, 2, 6, 48, 2, 6, 46, 53, 40, 13, 44, 44, 45, 35, 49, 48, 44, 60, 62, 39, 48, 48, 8, 2, 8, 19, 2, 6, 47, 42, 37, 51, 53, 46, 44, 41, 31, 2, 11, 2, 2, 2, 9, 2, 38, 2, 32, 2, 6, 48, 2, 6, 18, 2, 6, 48, 39, 19, 2, 6, 27, 2, 6, 50, 46, 52, 45, 46, 48, 45, 53, 46, 47, 2, 6, 25, 2, 6, 50, 40, 43, 48, 42, 46, 40, 23, 2, 6, 21, 2, 6, 50, 31, 2, 6, 36, 2, 6, 48, 42, 34, 59, 43, 41, 36, 21, 2, 6, 22, 2, 6, 31, 2, 6, 14, 20, 2, 6, 30, 41, 43, 51, 11, 46, 44, 45, 41, 50, 41, 21, 2, 6, 21, 2, 6, 67, 64, 2, 6, 56, 13, 2, 6, 44, 50, 38, 56, 49, 45, 43, 39, 14, 50, 40, 42, 38, 38, 46, 2, 6, 18, 2, 6, 32, 2, 6, 15, 2, 6, 38, 2, 6, 19, 2, 6, 28, 2, 6, 16, 2, 6, 11, 2, 18, 2, 18, 2, 38, 2, 6, 43, 2, 6, 32, 2, 6, 41, 46, 45, 42, 51, 39, 38, 43, 2, 6, 19, 2, 6, 25, 25, 2, 6, 15, 2, 6, 44, 44, 45, 37, 41, 41, 48, 42, 40, 46, 45, 45, 46, 43, 2, 6, 44, 35, 40, 47, 36, 46, 50, 2, 6, 44, 36, 19, 2, 6, 25, 47, 51, 51, 34, 42, 38, 46, 57, 45, 2, 11, 2, 2, 2, 33, 2, 58, 2, 7, 45, 44, 41, 45, 43, 43, 43, 54, 44, 39, 51, 51, 48, 40, 45, 41, 50, 39, 2, 8, 45, 44, 48, 41, 40, 40, 43, 31, 2, 6, 21, 47, 44, 19, 2, 7, 15, 47, 41, 18, 2, 7, 46, 2, 8, 46, 38, 44, 44, 2, 7, 45, 30, 2, 8, 11, 2, 58, 2, 19, 2, 6, 44, 24, 2, 7, 47, 2, 6, 45, 36, 41, 45, 39, 43, 36, 2, 7, 43, 2, 6, 43, 49, 2, 7, 46, 2, 18, 2, 44, 50, 2, 8, 40, 48, 2, 7, 26, 2, 49, 2, 27, 47, 2, 7, 44, 41, 44, 41, 41, 50, 42, 47, 43, 44, 39, 49, 40, 48, 46, 42, 41, 18, 45, 45, 41, 26, 2, 7, 19, 45, 39, 50, 49, 20, 2, 35, 2, 6, 32, 38, 39, 51, 49, 46, 51, 42, 44, 43, 18, 2, 8, 29, 2, 6, 37, 49, 44, 41, 44, 44, 42, 43, 42, 10, 48, 39, 46, 10, 60, 13, 61, 35, 10, 44, 2, 8, 31, 2, 6, 46, 10, 35, 36, 30, 30, 63, 67, 12, 67, 15, 49, 39, 48, 24, 2, 7, 18, 20, 2, 6, 26, 2, 7, 38, 2, 6, 50, 46, 42, 47, 44, 41, 45, 45, 49, 43, 46, 50, 47, 41, 47, 44, 40, 44, 49, 40, 22, 2, 7, 25, 2, 8, 25, 2, 6, 52, 40, 27, 2, 7, 18, 2, 6, 44, 36, 39, 47, 20, 2, 7, 28, 2, 6, 48, 20, 2, 8, 20, 2, 6, 47, 36, 41, 43, 37, 30, 2, 7, 17, 2, 8, 53, 2, 6, 35, 46, 2, 39, 2, 26, 2, 31, 2, 6, 20, 2, 6, 26, 2, 6, 38, 2, 6, 17, 2, 6, 40, 2, 6, 18, 2, 6, 61, 29, 2, 6, 28, 2, 6, 65, 32, 2, 6, 18, 2, 6, 64, 52, 2, 6, 67, 64, 65, 65, 16, 2, 6, 22, 2, 6, 30, 2, 6, 14, 2, 6, 44, 2, 6, 63, 61, 61, 65, 67, 62, 64, 2, 6, 64, 40, 2, 6, 16, 2, 6, 65, 64, 64, 67, 67, 18, 2, 6, 57, 67, 7, 2, 6, 25, 2, 6, 26, 2, 39, 2, 6, 46, 2, 6, 35, 2, 18, 2, 7, 19, 2, 6, 20, 2, 6, 61, 41, 2, 6, 43, 2, 7, 38, 46, 2, 6, 28, 2, 6, 19, 2, 6, 56, 10, 2, 7, 25, 2, 6, 56, 28, 2, 6, 51, 2, 6, 58, 62, 64, 9, 2, 7, 18, 2, 6, 21, 2, 6, 24, 2, 6, 60, 43, 2, 6, 27, 2, 6, 62, 56, 2, 6, 65, 7, 2, 6, 61, 61, 2, 7, 63, 48, 2, 6, 33, 2, 6, 64, 30, 2, 6, 64, 64, 23, 2, 17, 22, 2, 6, 57, 62, 65, 23, 2, 6, 43, 2, 6, 62, 66, 58, 64, 2, 7, 30, 2, 6, 59, 67, 65, 20, 2, 6, 23, 2, 6, 63, 59, 64, 66, 38, 2, 6, 34, 2, 6, 65, 10, 2, 7, 28, 2, 6, 60, 60, 66, 64, 64, 67, 66, 64, 65, 60, 62, 64, 67, 66, 53, 2, 6, 50, 2, 6, 60, 2, 6, 59, 65, 62, 2, 6, 61, 67, 65, 63, 63, 63, 7, 2, 6, 56, 25, 2, 6, 54, 46, 2, 6, 57, 13, 2, 6, 61, 29, 2, 6, 27, 2, 6, 35, 2, 6, 62, 66, 65, 67, 65, 27, 2, 6, 58, 63, 57, 67, 66, 31, 2, 6, 64, 62, 66, 32, 2, 6, 16, 2, 7, 50, 2, 6, 28, 2, 6, 55, 2, 6, 62, 65, 67, 67, 31, 2, 32, 2, 7, 24, 2, 6, 63, 64, 63, 60, 64, 31, 2, 7, 24, 2, 6, 61, 29, 2, 19, 2, 6, 30, 2, 6, 67, 66, 2, 6, 64, 23, 2, 6, 67, 53, 2, 6, 35, 2, 6, 64, 9, 2, 6, 38, 2, 6, 13, 2, 6, 19, 2, 6, 36, 2, 6, 59, 59, 66, 64, 67, 15, 2, 6, 58, 2, 6, 32, 2, 6, 7, 37, 38, 2, 2, 6, 32, 2, 6, 38, 2, 6, 60, 20, 2, 6, 24, 2, 6, 30, 2, 6, 7, 26, 21, 45, 65, 28, 2, 31, 2, 64, 62, 60, 61, 63, 62, 67, 60, 64, 51, 2, 9, 23, 2, 6, 63, 65, 66, 67, 67, 64, 64, 61, 62, 67, 67, 64, 61, 2, 49, 2, 43, 2, 46, 49, 48, 53, 44, 44, 53, 50, 45, 54, 44, 51, 32, 2, 18, 2, 6, 60, 13, 2, 9, 23, 53, 48, 43, 51, 50, 53, 48, 49, 52, 42, 51, 44, 48, 17, 45, 52, 49, 48, 52, 44, 44, 47, 51, 26, 52, 43, 53, 53, 29, 2, 6, 19, 2, 6, 64, 65, 12, 2, 9, 49, 2, 6, 21, 2, 6, 38, 2, 9, 53, 46, 49, 45, 49, 53, 59, 49, 46, 51, 50, 49, 54, 29, 2, 6, 64, 27, 2, 6, 62, 62, 67, 65, 51, 2, 6, 53, 2, 6, 53, 64, 65, 28, 2, 6, 13, 2, 6, 51, 2, 55, 2, 60, 11, 2, 9, 14, 2, 6, 60, 66, 29, 2, 9, 14, 2, 6, 58, 2, 22, 2, 61, 37, 2, 6, 15, 2, 40, 2, 6, 24, 17, 41, 44, 42, 44, 45, 45, 48, 49, 13, 40, 48, 43, 50, 48, 42, 43, 38, 8, 40, 45, 41, 40, 42, 46, 46, 55, 48, 46, 40, 40, 43, 49, 56, 15, 44, 44, 44, 48, 38, 13, 49, 43, 39, 43, 42, 50, 53, 45, 44, 47, 47, 44, 46, 41, 43, 41, 48, 48, 2, 9, 2, 2, 2, 2, 10, 2, 32, 2, 57, 16, 2, 7, 43, 45, 42, 38, 2, 6, 46, 48, 2, 7, 43, 41, 47, 20, 2, 8, 26, 2, 6, 24, 2, 7, 43, 2, 6, 43, 25, 2, 8, 19, 17, 2, 6, 44, 50, 41, 42, 42, 32, 2, 6, 17, 47, 29, 2, 7, 48, 28, 42, 45, 2, 6, 20, 2, 40, 2, 7, 31, 45, 42, 18, 43, 48, 42, 38, 42, 27, 2, 8, 21, 39, 44, 52, 41, 23, 2, 6, 23, 2, 15, 2, 6, 51, 61, 42, 50, 52, 35, 20, 2, 7, 28, 55, 51, 45, 42, 17, 2, 6, 45, 2, 29, 2, 17, 2, 6, 47, 43, 45, 44, 49, 39, 48, 45, 45, 53, 50, 45, 41, 38, 50, 51, 46, 41, 43, 40, 51, 40, 48, 44, 42, 45, 41, 46, 39, 49, 43, 45, 45, 42, 28, 2, 6, 15, 43, 2, 6, 39, 2, 6, 39, 40, 31, 2, 6, 12, 25, 2, 6, 48, 49, 51, 41, 47, 17, 2, 6, 25, 2, 6, 10, 2, 6, 15, 2, 6, 27, 2, 6, 62, 27, 2, 6, 64, 2, 6, 58, 65, 66, 55, 2, 6, 42, 2, 6, 55, 64, 6, 2, 6, 26, 2, 6, 57, 65, 67, 66, 63, 67, 66, 60, 9, 2, 6, 19, 2, 6, 59, 39, 2, 6, 33, 2, 6, 65, 66, 64, 63, 63, 11, 2, 6, 33, 2, 6, 59, 67, 66, 67, 63, 66, 29, 2, 9, 2, 6, 42, 59, 44, 45, 52, 43, 42, 47, 50, 48, 37, 48, 2, 31, 2, 7, 44, 52, 53, 42, 43, 44, 31, 51, 42, 42, 36, 45, 48, 47, 2, 6, 40, 42, 48, 45, 46, 41, 44, 47, 47, 47, 43, 31, 2, 7, 17, 46, 2, 11, 2, 2, 2, 33, 2, 37, 2, 6, 58, 64, 65, 60, 62, 52, 65, 67, 67, 65, 67, 52, 2, 11, 24, 2, 6, 62, 66, 63, 66, 63, 64, 64, 66, 60, 62, 65, 65, 59, 64, 60, 64, 25, 2, 11, 58, 2, 6, 62, 63, 63, 64, 65, 64, 17, 2, 19, 2, 50, 2, 58, 2, 6, 40, 2, 6, 29, 2, 18, 2, 35, 2, 16, 19, 2, 25, 2, 6, 20, 2, 18, 2, 6, 36, 2, 6, 38, 39, 2, 6, 20, 2, 6, 30, 44, 45, 60, 46, 43, 50, 48, 44, 50, 49, 42, 52, 49, 47, 49, 50, 47, 46, 43, 46, 47, 47, 40, 43, 39, 41, 33, 44, 41, 45, 28, 2, 6, 16, 52, 44, 2, 6, 46, 18, 2, 66, 41, 2, 7, 30, 2, 6, 62, 45, 2, 7, 62, 7, 2, 6, 67, 21, 2, 6, 54, 2, 6, 21, 2, 6, 64, 12, 2, 6, 65, 20, 2, 6, 44, 2, 8, 41, 2, 6, 48, 2, 6, 41, 2, 6, 32, 33, 2, 6, 14, 2, 6, 32, 2, 6, 14, 2, 6, 39, 2, 6, 27, 2, 6, 51, 2, 6, 19, 2, 6, 10, 2, 6, 25, 2, 6, 9, 2, 6, 14, 2, 6, 60, 65, 22, 2, 6, 38, 2, 6, 62, 66, 66, 67, 62, 57, 2, 41, 2, 62, 60, 59, 57, 63, 66, 66, 61, 64, 67, 43, 2, 11, 2, 6, 27, 2, 6, 53, 2, 6, 52, 2, 19, 2, 6, 64, 19, 2, 6, 39, 2, 6, 61, 50, 2, 6, 53, 2, 6, 33, 36, 35, 2, 6, 44, 2, 6, 22, 2, 6, 18, 2, 29, 2, 10, 49, 47, 44, 50, 49, 39, 2, 11, 39, 44, 42, 47, 46, 43, 43, 36, 49, 41, 52, 56, 2, 10, 50, 48, 48, 42, 27, 2, 11, 23, 47, 38, 47, 2, 6, 30, 2, 11, 41, 48, 38, 39, 2, 10, 44, 40, 37, 38, 51, 40, 36, 45, 42, 44, 37, 46, 48, 47, 49, 54, 43, 50, 51, 45, 41, 46, 43, 33, 38, 40, 40, 52, 43, 51, 2, 11, 46, 46, 40, 42, 43, 46, 47, 35, 2, 6, 43, 2, 10, 49, 48, 29, 11, 2, 11, 23, 44, 2, 9, 2, 6, 32, 2, 8, 39, 2, 6, 30, 2, 7, 56, 2, 6, 61, 8, 2, 7, 28, 2, 6, 58, 63, 65, 61, 66, 14, 2, 19, 2, 43, 2, 6, 33, 2, 6, 61, 23, 2, 6, 38, 2, 6, 51, 2, 6, 26, 2, 6, 62, 64, 22, 2, 6, 58, 46, 49, 52, 37, 38, 2, 45, 2, 6, 64, 62, 66, 2, 6, 17, 2, 6, 33, 2, 8, 20, 2, 6, 21, 2, 7, 28, 2, 6, 25, 2, 38, 2, 6, 40, 30, 48, 32, 66, 62, 60, 2, 6, 15, 2, 6, 22, 38, 32, 41, 28, 2, 6, 24, 2, 6, 59, 24, 2, 6, 21, 2, 6, 35, 2, 6, 27, 2, 6, 51, 41, 45, 19, 2, 39, 2, 7, 45, 2, 6, 23, 2, 7, 17, 2, 6, 23, 2, 7, 48, 2, 6, 18, 2, 7, 34, 2, 6, 63, 62, 34, 2, 7, 61, 31, 2, 6, 29, 2, 7, 61, 22, 2, 6, 18, 2, 7, 61, 65, 62, 34, 2, 6, 16, 2, 7, 16, 2, 6, 64, 65, 65, 8, 2, 6, 57, 27, 2, 6, 65, 50, 2, 6, 64, 2, 6, 60, 24, 2, 6, 32, 2, 6, 51, 2, 6, 64, 63, 14, 2, 6, 26, 2, 6, 62, 33, 2, 6, 64, 8, 2, 41, 2, 67, 66, 14, 2, 7, 63, 2, 6, 62, 2, 7, 20, 2, 6, 13, 2, 7, 23, 2, 6, 19, 2, 7, 34, 2, 6, 56, 63, 63, 2, 7, 59, 21, 2, 6, 61, 64, 63, 64, 63, 65, 65, 26, 2, 19, 2, 21, 2, 6, 57, 2, 6, 60, 2, 6, 44, 2, 6, 31, 2, 6, 29, 2, 6, 18, 2, 6, 20, 2, 6, 63, 41, 2, 6, 16, 2, 9, 2, 6, 27, 2, 18, 2, 22, 2, 41, 2, 43, 53, 55, 40, 51, 44, 41, 33, 44, 45, 39, 45, 2, 9, 2, 2, 2, 34, 2, 46, 2, 7, 44, 50, 44, 41, 40, 39, 22, 2, 7, 28, 36, 37, 39, 2, 6, 40, 47, 45, 45, 41, 43, 46, 43, 49, 50, 42, 42, 46, 2, 7, 45, 41, 33, 2, 15, 19, 2, 25, 2, 19, 2, 6, 45, 37, 56, 43, 50, 50, 50, 39, 27, 2, 7, 23, 2, 18, 2, 45, 43, 38, 41, 45, 43, 45, 44, 50, 47, 48, 40, 48, 40, 44, 47, 49, 44, 48, 44, 45, 41, 45, 43, 42, 47, 49, 47, 45, 43, 41, 43, 44, 45, 57, 41, 18, 2, 23, 2, 17, 2, 6, 43, 47, 47, 42, 44, 12, 42, 43, 51, 50, 48, 48, 41, 46, 5, 46, 42, 43, 40, 41, 51, 46, 44, 43, 2, 9, 2, 32, 2, 7, 44, 44, 2, 9, 2, 2, 2, 39, 2, 29, 2, 6, 50, 55, 53, 47, 30, 2, 6, 35, 2, 8, 19, 44, 2, 35, 2, 17, 2, 6, 33, 2, 8, 45, 2, 6, 43, 2, 8, 45, 2, 6, 44, 2, 8, 23, 2, 6, 24, 2, 8, 21, 2, 6, 26, 51, 49, 2, 8, 50, 2, 6, 52, 38, 43, 2, 8, 47, 17, 2, 6, 39, 2, 6, 26, 25, 2, 35, 2, 6, 26, 2, 19, 2, 8, 28, 2, 6, 34, 2, 25, 2, 8, 41, 2, 6, 45, 44, 2, 8, 17, 2, 6, 28, 48, 16, 47, 47, 52, 46, 36, 40, 45, 2, 8, 51, 30, 2, 6, 13, 44, 44, 45, 47, 43, 40, 41, 47, 39, 44, 29, 2, 8, 18, 48, 2, 6, 45, 46, 43, 46, 44, 35, 39, 35, 43, 39, 52, 44, 48, 48, 45, 42, 48, 48, 54, 53, 42, 44, 41, 49, 46, 46, 48, 40, 20, 47, 43, 40, 45, 46, 43, 26, 2, 8, 26, 43, 46, 32, 2, 6, 18, 39, 48, 23, 2, 8, 25, 46, 24, 2, 6, 27, 46, 42, 40, 45, 27, 2, 8, 10, 2, 6, 33, 2, 16, 2, 44, 56, 2, 8, 17, 2, 6, 42, 46, 45, 9, 2, 8, 32, 44, 42, 46, 46, 23, 2, 6, 27, 2, 8, 26, 39, 48, 46, 45, 45, 42, 42, 46, 2, 6, 46, 52, 48, 43, 42, 51, 2, 8, 28, 2, 6, 27, 2, 8, 40, 2, 6, 27, 2, 8, 28, 2, 6, 47, 38, 50, 2, 15, 2, 8, 41, 32, 21, 2, 6, 10, 49, 49, 44, 46, 47, 46, 48, 47, 44, 45, 44, 45, 49, 41, 40, 45, 2, 8, 46, 2, 6, 38, 41, 45, 38, 46, 41, 42, 37, 41, 40, 45, 48, 45, 47, 41, 47, 25, 45, 43, 44, 41, 47, 35, 46, 27, 2, 8, 18, 2, 6, 43, 44, 49, 43, 51, 40, 39, 49, 48, 42, 46, 38, 38, 46, 41, 31, 2, 8, 46, 47, 28, 2, 6, 35, 2, 8, 8, 37, 2, 6, 53, 46, 47, 41, 40, 49, 45, 48, 46, 32, 46, 46, 49, 42, 46, 21, 2, 52, 2, 2, 2, 9, 2, 32, 2, 52, 2, 7, 54, 50, 20, 2, 8, 41, 2, 48, 2, 46, 2, 7, 34, 2, 8, 44, 43, 42, 45, 42, 26, 2, 7, 15, 44, 40, 39, 47, 41, 54, 46, 44, 40, 40, 45, 2, 8, 40, 43, 33, 47, 2, 7, 24, 45, 48, 40, 49, 2, 42, 2, 50, 40, 51, 49, 45, 2, 40, 2, 51, 43, 47, 42, 38, 51, 43, 40, 2, 11, 2, 39, 2, 17, 2, 6, 16, 2, 16, 32, 2, 6, 53, 2, 39, 2, 6, 50, 2, 6, 44, 2, 6, 49, 28, 2, 6, 20, 2, 6, 15, 2, 6, 64, 67, 12, 2, 6, 36, 2, 6, 61, 64, 64, 66, 65, 8, 2, 6, 32, 2, 6, 60, 2, 6, 63, 11, 2, 6, 63, 24, 2, 7, 19, 2, 6, 55, 2, 11, 2, 2, 2, 40, 2, 24, 2, 7, 47, 47, 44, 41, 49, 55, 53, 40, 44, 38, 16, 2, 22, 2, 30, 2, 6, 43, 25, 2, 7, 18, 2, 6, 51, 2, 7, 22, 2, 6, 37, 2, 34, 2, 7, 32, 2, 6, 12, 2, 7, 19, 2, 6, 53, 65, 65, 66, 64, 10, 2, 7, 13, 2, 6, 63, 41, 2, 7, 30, 2, 6, 62, 23, 2, 7, 20, 2, 6, 64, 66, 65, 28, 2, 7, 42, 2, 6, 29, 2, 22, 2, 7, 49, 41, 54, 50, 42, 45, 14, 2, 6, 14, 2, 7, 13, 2, 6, 7, 2, 7, 41, 2, 6, 59, 24, 2, 7, 28, 2, 6, 63, 51, 2, 9, 2, 7, 50, 45, 41, 54, 2, 40, 2, 51, 48, 43, 42, 47, 47, 38, 46, 43, 47, 44, 2, 9, 2, 2, 2, 31, 2, 42, 2, 6, 45, 43, 43, 44, 42, 39, 22, 2, 7, 23, 2, 6, 15, 2, 31, 2, 48, 2, 6, 35, 2, 7, 26, 2, 6, 32, 2, 7, 30, 2, 6, 25, 2, 7, 39, 2, 6, 42, 23, 2, 7, 39, 40, 41, 48, 41, 42, 2, 6, 44, 2, 7, 32, 2, 6, 47, 45, 50, 48, 45, 2, 7, 22, 2, 9, 2, 6, 32, 2, 6, 48, 2, 26, 2, 40, 42, 42, 45, 49, 39, 36, 42, 42, 43, 54, 45, 45, 54, 47, 45, 38, 44, 38, 36, 46, 44, 40, 40, 48, 46, 40, 46, 43, 40, 48, 43, 40, 46, 45, 2, 9, 2, 2, 2, 42, 2, 28, 2, 8, 28, 2, 7, 38, 32, 2, 8, 22, 2, 7, 47, 61, 53, 51, 38, 44, 51, 57, 53, 42, 53, 46, 2, 8, 18, 2, 17, 2, 43, 46, 39, 42, 2, 34, 2, 6, 44, 2, 8, 19, 2, 15, 37, 24, 33, 28, 2, 8, 43, 2, 6, 31, 10, 31, 27, 36, 28, 2, 8, 20, 2, 6, 17, 10, 43, 2, 15, 2, 8, 27, 2, 6, 10, 37, 37, 30, 2, 7, 26, 2, 6, 62, 67, 13, 2, 7, 26, 2, 6, 67, 25, 10, 39, 34, 33, 28, 2, 44, 35, 37, 27, 2, 7, 17, 2, 6, 53, 10, 33, 32, 43, 34, 2, 38, 30, 40, 40, 2, 7, 30, 2, 6, 59, 66, 63, 66, 33, 2, 9, 2, 7, 52, 2, 17, 2, 49, 52, 48, 45, 49, 45, 58, 56, 45, 45, 51, 44, 44, 47, 41, 48, 40, 42, 43, 43, 29, 2, 19, 2, 8, 28, 2, 7, 49, 2, 22, 2, 21, 2, 7, 25, 37, 46, 40, 51, 42, 37, 40, 46, 52, 40, 2, 8, 45, 44, 2, 19, 2, 7, 22, 2, 42, 2, 7, 51, 2, 8, 20, 2, 7, 28, 2, 8, 19, 2, 33, 2, 7, 49, 20, 2, 8, 23, 2, 7, 54, 47, 47, 20, 2, 7, 29, 43, 47, 42, 45, 45, 54, 13, 2, 7, 21, 2, 7, 7, 2, 8, 17, 2, 7, 26, 2, 7, 45, 51, 47, 45, 45, 44, 31, 2, 7, 21, 2, 7, 29, 46, 32, 2, 7, 15, 37, 56, 54, 19, 2, 7, 23, 2, 7, 26, 2, 7, 49, 44, 28, 2, 7, 20, 41, 45, 39, 43, 26, 2, 8, 27, 2, 7, 30, 2, 58, 11, 2, 51, 46, 49, 46, 42, 46, 43, 46, 43, 27, 2, 6, 10, 40, 35, 43, 2, 25, 2, 7, 50, 25, 2, 6, 59, 67, 20, 2, 7, 34, 2, 6, 55, 54, 2, 7, 58, 2, 6, 63, 58, 67, 67, 49, 10, 43, 2, 7, 47, 40, 2, 6, 10, 32, 32, 26, 27, 30, 2, 36, 29, 30, 29, 31, 2, 57, 2, 9, 2, 7, 25, 2, 7, 42, 37, 51, 50, 36, 49, 49, 37, 45, 44, 25, 2, 7, 17, 43, 49, 41, 50, 33, 2, 7, 15, 50, 24, 2, 11, 2, 2, 2, 39, 2, 32, 2, 6, 41, 2, 10, 51, 2, 6, 19, 2, 17, 2, 43, 47, 2, 18, 2, 11, 21, 2, 6, 25, 2, 9, 59, 67, 50, 2, 6, 52, 60, 63, 63, 66, 63, 67, 67, 66, 66, 66, 65, 65, 58, 44, 2, 51, 47, 36, 2, 11, 2, 2, 2, 40, 2, 27, 2, 7, 47, 47, 46, 44, 18, 2, 7, 31, 44, 39, 45, 29, 2, 7, 29, 49, 53, 46, 47, 43, 48, 43, 39, 48, 49, 52, 49, 43, 38, 33, 2, 7, 36, 41, 44, 42, 49, 2, 7, 53, 44, 49, 52, 43, 48, 2, 22, 2, 21, 2, 7, 32, 42, 2, 7, 32, 2, 7, 45, 50, 27, 2, 7, 31, 11, 2, 19, 2, 65, 63, 63, 64, 2, 52, 41, 2, 7, 20, 2, 7, 38, 44, 20, 2, 7, 45, 40, 46, 21, 2, 7, 25, 42, 26, 2, 7, 14, 41, 2, 7, 45, 46, 43, 36, 47, 42, 49, 23, 2, 7, 27, 38, 28, 2, 7, 17, 49, 45, 47, 43, 42, 27, 2, 7, 29, 2, 7, 36, 44, 45, 44, 52, 37, 51, 50, 45, 47, 43, 51, 42, 28, 2, 7, 17, 2, 7, 11, 2, 7, 23, 2, 7, 16, 2, 7, 42, 28, 2, 7, 28, 37, 39, 38, 46, 54, 47, 46, 37, 43, 44, 21, 2, 7, 28, 2, 7, 39, 43, 25, 2, 7, 19, 2, 7, 48, 40, 39, 42, 43, 45, 42, 37, 45, 55, 40, 49, 52, 56, 45, 44, 21, 2, 7, 34, 2, 7, 46, 51, 51, 47, 49, 38, 52, 44, 46, 47, 44, 46, 30, 2, 7, 14, 44, 38, 40, 44, 45, 47, 51, 52, 18, 2, 7, 30, 47, 47, 54, 51, 47, 49, 47, 9, 44, 48, 53, 47, 44, 29, 2, 16, 2, 23, 2, 8, 41, 55, 2, 7, 20, 2, 8, 41, 50, 44, 53, 45, 53, 48, 46, 42, 53, 45, 48, 39, 38, 45, 49, 47, 17, 2, 7, 28, 2, 8, 19, 2, 7, 44, 42, 43, 50, 41, 49, 31, 2, 9, 2, 7, 25, 40, 43, 25, 2, 11, 2, 2, 2, 8, 2, 24, 2, 38, 2, 10, 59, 26, 2, 10, 64, 57, 2, 10, 65, 2, 10, 21, 2, 10, 60, 66, 63, 39, 2, 10, 38, 2, 10, 59, 66, 66, 64, 56, 2, 10, 18, 2, 10, 39, 2, 10, 53, 67, 2, 10, 59, 67, 62, 67, 28, 2, 10, 21, 2, 10, 39, 2, 10, 19, 2, 10, 62, 65, 63, 29, 2, 10, 8, 2, 10, 60, 31, 2, 10, 64, 2, 10, 60, 63, 61, 67, 2, 10, 65, 2, 10, 31, 2, 10, 24, 2, 10, 7, 2, 10, 22, 2, 44, 2, 10, 60, 61, 62, 61, 9, 2, 22, 2, 19, 2, 40, 35, 49, 43, 2, 6, 62, 15, 2, 6, 52, 2, 6, 63, 8, 2, 10, 10, 38, 36, 39, 35, 2, 22, 2, 6, 61, 64, 63, 64, 15, 2, 6, 20, 2, 6, 61, 67, 57, 20, 2, 6, 14, 2, 6, 61, 65, 64, 62, 7, 2, 10, 10, 36, 33, 36, 32, 2, 28, 2, 6, 61, 66, 65, 65, 65, 64, 65, 65, 64, 65, 65, 66, 11, 2, 6, 26, 2, 6, 39, 2, 6, 37, 2, 6, 63, 54, 2, 10, 12, 10, 36, 32, 2, 6, 50, 2, 10, 67, 36, 2, 6, 62, 52, 2, 10, 59, 2, 6, 32, 2, 10, 18, 2, 6, 18, 2, 10, 19, 2, 6, 27, 2, 10, 60, 2, 6, 58, 62, 64, 66, 57, 2, 10, 60, 39, 2, 6, 25, 2, 10, 60, 64, 15, 2, 6, 42, 2, 10, 59, 47, 2, 6, 6, 2, 10, 66, 2, 6, 18, 2, 10, 27, 2, 6, 16, 2, 10, 35, 2, 6, 19, 2, 10, 61, 15, 2, 6, 50, 2, 10, 60, 66, 64, 16, 2, 6, 27, 2, 10, 61, 67, 67, 38, 2, 6, 15, 2, 10, 61, 2, 6, 18, 2, 10, 60, 61, 27, 2, 6, 7, 2, 10, 12, 2, 6, 64, 65, 67, 64, 65, 64, 65, 60, 61, 67, 20, 2, 6, 23, 2, 6, 64, 2, 6, 10, 2, 6, 20, 2, 26, 2, 6, 19, 2, 6, 55, 63, 23, 2, 6, 50, 2, 6, 62, 61, 66, 63, 50, 47, 45, 51, 52, 50, 2, 59, 66, 2, 52, 47, 47, 42, 27, 2, 26, 2, 7, 21, 2, 6, 18, 27, 2, 7, 21, 2, 11, 41, 48, 50, 47, 48, 54, 43, 46, 21, 2, 7, 29, 2, 11, 18, 43, 40, 27, 2, 7, 25, 40, 52, 40, 26, 2, 6, 25, 2, 8, 32, 23, 51, 53, 33, 2, 7, 15, 43, 44, 47, 48, 25, 45, 45, 42, 18, 2, 6, 14, 24, 48, 52, 41, 18, 25, 2, 7, 26, 23, 2, 6, 24, 46, 43, 39, 45, 2, 7, 21, 2, 8, 17, 2, 6, 14, 2, 6, 25, 2, 61, 2, 6, 44, 38, 2, 8, 23, 2, 6, 42, 45, 45, 2, 7, 24, 2, 8, 31, 2, 6, 36, 62, 41, 43, 42, 42, 49, 43, 45, 47, 28, 2, 8, 23, 44, 38, 46, 32, 2, 6, 16, 42, 40, 38, 46, 2, 9, 2, 7, 45, 2, 17, 14, 54, 45, 48, 42, 40, 42, 2, 11, 2, 2, 2, 33, 2, 29, 2, 6, 50, 39, 2, 6, 23, 2, 6, 47, 46, 49, 47, 43, 55, 42, 29, 2, 6, 23, 2, 6, 19, 43, 43, 47, 41, 40, 49, 38, 44, 48, 47, 43, 42, 31, 2, 6, 16, 2, 6, 49, 42, 2, 6, 16, 2, 6, 45, 42, 42, 42, 41, 45, 44, 44, 29, 2, 6, 19, 2, 6, 41, 40, 52, 48, 41, 44, 47, 43, 44, 28, 2, 6, 22, 2, 6, 40, 39, 42, 46, 57, 47, 49, 23, 2, 6, 42, 2, 6, 50, 47, 37, 44, 43, 22, 2, 6, 27, 2, 6, 50, 52, 46, 42, 53, 54, 39, 18, 2, 6, 46, 42, 2, 6, 40, 46, 36, 34, 36, 49, 48, 26, 2, 6, 24, 2, 16, 2, 6, 49, 2, 6, 52, 2, 6, 19, 2, 6, 65, 65, 67, 42, 2, 6, 56, 41, 2, 6, 58, 45, 2, 6, 39, 2, 6, 56, 2, 6, 42, 2, 6, 55, 2, 6, 63, 65, 58, 11, 2, 6, 28, 39, 2, 6, 61, 57, 61, 66, 66, 47, 2, 6, 61, 65, 64, 67, 67, 64, 45, 2, 6, 46, 2, 6, 64, 15, 2, 6, 6, 2, 6, 67, 14, 2, 6, 48, 2, 6, 13, 2, 6, 59, 2, 6, 14, 2, 6, 33, 2, 6, 63, 30, 2, 6, 55, 2, 6, 60, 58, 2, 6, 60, 43, 2, 6, 20, 2, 6, 20, 2, 6, 39, 2, 6, 58, 60, 67, 63, 63, 23, 2, 6, 30, 2, 6, 61, 2, 6, 38, 2, 6, 59, 67, 62, 67, 66, 2, 6, 58, 59, 63, 46, 2, 6, 21, 2, 6, 58, 2, 6, 62, 59, 64, 65, 25, 2, 6, 33, 2, 6, 60, 2, 6, 37, 2, 6, 15, 2, 15, 2, 63, 13, 2, 6, 52, 2, 6, 67, 67, 63, 60, 64, 43, 2, 17, 2, 7, 59, 66, 65, 24, 2, 6, 64, 67, 22, 2, 7, 45, 2, 6, 16, 2, 7, 59, 34, 2, 6, 24, 2, 14, 2, 6, 36, 2, 6, 61, 67, 63, 2, 6, 22, 2, 6, 60, 32, 2, 6, 64, 41, 2, 6, 61, 65, 66, 65, 29, 2, 64, 12, 2, 7, 49, 2, 46, 2, 6, 50, 39, 53, 42, 18, 47, 45, 45, 39, 47, 44, 45, 43, 37, 24, 41, 47, 42, 22, 2, 7, 27, 49, 42, 42, 44, 39, 45, 43, 24, 2, 6, 22, 47, 29, 2, 7, 19, 2, 6, 47, 53, 25, 2, 7, 19, 2, 6, 19, 2, 7, 50, 21, 2, 6, 21, 50, 2, 7, 41, 50, 2, 7, 40, 2, 6, 52, 2, 25, 2, 6, 19, 2, 7, 46, 41, 42, 46, 49, 41, 46, 49, 42, 39, 51, 50, 39, 2, 6, 15, 2, 7, 16, 2, 14, 2, 6, 6, 2, 7, 5, 2, 6, 11, 2, 6, 29, 2, 7, 15, 2, 7, 52, 25, 2, 47, 2, 19, 2, 6, 48, 35, 2, 14, 2, 7, 33, 2, 7, 20, 2, 8, 34, 46, 44, 2, 6, 13, 2, 7, 25, 2, 8, 40, 2, 7, 50, 2, 6, 41, 2, 8, 29, 2, 7, 28, 2, 7, 19, 2, 7, 53, 2, 6, 46, 42, 38, 2, 7, 22, 2, 14, 2, 6, 23, 2, 7, 18, 2, 50, 45, 2, 7, 31, 2, 6, 18, 2, 20, 2, 6, 30, 2, 6, 48, 2, 6, 20, 2, 7, 46, 45, 2, 6, 21, 2, 7, 31, 2, 8, 52, 39, 2, 9, 2, 6, 41, 25, 2, 18, 2, 7, 45, 44, 44, 44, 42, 43, 45, 48, 2, 6, 28, 27, 2, 19, 2, 18, 19, 2, 7, 43, 2, 6, 48, 44, 19, 2, 14, 2, 7, 22, 39, 45, 48, 18, 2, 9, 2, 6, 47, 47, 48, 45, 48, 50, 37, 44, 21, 2, 6, 19, 43, 30, 2, 6, 19, 52, 38, 53, 42, 35, 50, 21, 2, 36, 2, 29, 2, 6, 51, 37, 22, 2, 6, 20, 47, 46, 39, 39, 50, 45, 2, 9, 2, 6, 54, 46, 32, 2, 17, 2, 58, 2, 7, 22, 2, 6, 26, 47, 2, 7, 45, 45, 37, 26, 2, 15, 22, 45, 53, 42, 45, 34, 2, 6, 21, 42, 44, 47, 49, 48, 40, 45, 48, 39, 45, 47, 39, 48, 16, 2, 7, 26, 39, 43, 47, 48, 2, 6, 43, 51, 43, 54, 29, 2, 7, 19, 42, 40, 52, 42, 25, 43, 47, 29, 2, 17, 2, 65, 24]\n"
     ]
    }
   ],
   "source": [
    "linelengths=[len(line) for line in open(\"hamlet.txt\")]#poor code as we dont close the file\n",
    "print(linelengths)"
   ]
  },
  {
   "cell_type": "code",
   "execution_count": 164,
   "metadata": {},
   "outputs": [
    {
     "output_type": "execute_result",
     "data": {
      "text/plain": [
       "(180718, 26.69394387001477, 26.0, 21.02987202142746)"
      ]
     },
     "metadata": {},
     "execution_count": 164
    }
   ],
   "source": [
    "sum(linelengths), np.mean(linelengths), np.median(linelengths), np.std(linelengths)"
   ]
  },
  {
   "cell_type": "markdown",
   "metadata": {},
   "source": [
    "But perhaps we want to access Hamlet word by word and not line by line"
   ]
  },
  {
   "cell_type": "code",
   "execution_count": 166,
   "metadata": {},
   "outputs": [
    {
     "output_type": "execute_result",
     "data": {
      "text/plain": [
       "31659"
      ]
     },
     "metadata": {},
     "execution_count": 166
    }
   ],
   "source": [
    "hamletfile=open(\"hamlet.txt\")\n",
    "hamlettext=hamletfile.read()\n",
    "hamletfile.close()\n",
    "hamlettokens=hamlettext.split()#split with no arguments splits on whitespace\n",
    "len(hamlettokens)"
   ]
  },
  {
   "cell_type": "markdown",
   "metadata": {},
   "source": [
    "One can use the `with` syntax which cretaes a context. The file closing is then done automatically for us."
   ]
  },
  {
   "cell_type": "code",
   "execution_count": 168,
   "metadata": {},
   "outputs": [
    {
     "output_type": "stream",
     "name": "stdout",
     "text": [
      "31659\n"
     ]
    }
   ],
   "source": [
    "with open(\"hamlet.txt\") as hamletfile:\n",
    "    hamlettext=hamletfile.read()\n",
    "    hamlettokens=hamlettext.split()\n",
    "    print(len(hamlettokens))"
   ]
  },
  {
   "cell_type": "markdown",
   "metadata": {},
   "source": [
    "There are roughly 32,000 words in Hamlet."
   ]
  },
  {
   "cell_type": "markdown",
   "metadata": {},
   "source": [
    "### The indexing of lists"
   ]
  },
  {
   "cell_type": "code",
   "execution_count": 170,
   "metadata": {},
   "outputs": [
    {
     "output_type": "stream",
     "name": "stdout",
     "text": [
      "﻿XXXX\nHAMLET, PRINCE OF DENMARK\n\nby William Shakespeare\n\n\n\n\nPERSONS REPRESENTED.\n\nClaudius, King of Denmark.\nHamlet, Son to the former, and Nephew to the present King.\nPolonius, Lord Chamberlain.\nHoratio, Friend to Hamlet.\nLaertes, Son to Polonius.\nVoltimand, Courtier.\nCornelius, Courtier.\nRosencrantz, Courtier.\nGuildenstern, Courtier.\nOsric, Courtier.\nA Gentleman, Courtier.\nA Priest.\nMarcellus, Officer.\nBernardo, Officer.\nFrancisco, a Soldier\nReynaldo, Servant to Polonius.\nPlayers.\nTwo Clowns, Grave-diggers.\nFortinbras, Prince of Norway.\nA Captain.\nEnglish Ambassadors.\nGhost of Hamlet's Father.\n\nGertrude, Queen of Denmark, and Mother of Hamlet.\nOphelia, Daughter to Polonius.\n\nLords, Ladies, Officers, Soldiers, Sailors, Messengers, and other\nAttendants.\n\nSCENE. Elsinore.\n\n\n\nACT I.\n\nScene I. Elsinore. A platform before the Castle.\n\n[Francisco at his post. Enter to him Bernardo.]\n\nBer.\nWho's there?\n\nFran.\nNay, answer me: stand, and u\n"
     ]
    }
   ],
   "source": [
    "print(hamlettext[:1000])#first 1000 characters from Hamlet."
   ]
  },
  {
   "cell_type": "code",
   "execution_count": 172,
   "metadata": {},
   "outputs": [
    {
     "output_type": "stream",
     "name": "stdout",
     "text": [
      "nd, in this upshot, purposes mistook\nFall'n on the inventors' heads: all this can I\nTruly deliver.\n\nFort.\nLet us haste to hear it,\nAnd call the noblest to the audience.\nFor me, with sorrow I embrace my fortune:\nI have some rights of memory in this kingdom,\nWhich now, to claim my vantage doth invite me.\n\nHor.\nOf that I shall have also cause to speak,\nAnd from his mouth whose voice will draw on more:\nBut let this same be presently perform'd,\nEven while men's minds are wild: lest more mischance\nOn plots and errors happen.\n\nFort.\nLet four captains\nBear Hamlet like a soldier to the stage;\nFor he was likely, had he been put on,\nTo have prov'd most royally: and, for his passage,\nThe soldiers' music and the rites of war\nSpeak loudly for him.--\nTake up the bodies.--Such a sight as this\nBecomes the field, but here shows much amiss.\nGo, bid the soldiers shoot.\n\n[A dead march.]\n\n[Exeunt, bearing off the dead bodies; after the which a peal of\nordnance is shot off.]\n\n"
     ]
    }
   ],
   "source": [
    "print(hamlettext[-1000:])#and last 1000 characters from Hamlet."
   ]
  },
  {
   "cell_type": "markdown",
   "metadata": {},
   "source": [
    "Lets split the word tokens. The first one below reads, give me the second, third, and fourth words (remember that python is 0 indexed). Try and figure what the others mean."
   ]
  },
  {
   "cell_type": "code",
   "execution_count": 174,
   "metadata": {},
   "outputs": [
    {
     "output_type": "stream",
     "name": "stdout",
     "text": [
      "(['HAMLET,', 'PRINCE', 'OF'], ['\\xef\\xbb\\xbfXXXX', 'HAMLET,', 'PRINCE', 'OF'], '\\xef\\xbb\\xbfXXXX', 'off.]')\n"
     ]
    }
   ],
   "source": [
    "print(hamlettokens[1:4], hamlettokens[:4], hamlettokens[0], hamlettokens[-1])"
   ]
  },
  {
   "cell_type": "code",
   "execution_count": 176,
   "metadata": {},
   "outputs": [
    {
     "output_type": "execute_result",
     "data": {
      "text/plain": [
       "['HAMLET,', 'OF', 'by', 'Shakespeare']"
      ]
     },
     "metadata": {},
     "execution_count": 176
    }
   ],
   "source": [
    "hamlettokens[1:8:2]#get every 2nd world between the 2nd and the 9th: ie 2nd, 4th, 6th, and 8th"
   ]
  },
  {
   "cell_type": "markdown",
   "metadata": {},
   "source": [
    "range and xrange get the list of integers upto N. But xrange behaves like an iterator. The reason for this is that there is no point generaing all os a million integers. We can just add 1 to the previous one and save memory. So we trade off storage for computation."
   ]
  },
  {
   "cell_type": "code",
   "execution_count": 178,
   "metadata": {},
   "outputs": [
    {
     "output_type": "execute_result",
     "data": {
      "text/plain": [
       "[0, 1, 2, 3, 4, 5, 6, 7, 8, 9]"
      ]
     },
     "metadata": {},
     "execution_count": 178
    }
   ],
   "source": [
    "mylist=[]\n",
    "for i in xrange(10):\n",
    "    mylist.append(i)\n",
    "mylist"
   ]
  },
  {
   "cell_type": "markdown",
   "metadata": {},
   "source": [
    "## Dictionaries\n",
    "\n",
    "These are the bread and butter. You will use them a lot. They even duck like lists. But be careful how."
   ]
  },
  {
   "cell_type": "code",
   "execution_count": 180,
   "metadata": {},
   "outputs": [
    {
     "output_type": "stream",
     "name": "stdout",
     "text": [
      "['three', 'two', 'one'] [('three', 3), ('two', 2), ('one', 1)] [3, 2, 1]\n"
     ]
    }
   ],
   "source": [
    "adict={'one':1, 'two': 2, 'three': 3}\n",
    "print [i for i in adict], [(k,v) for k,v in adict.items()], adict.values()"
   ]
  },
  {
   "cell_type": "markdown",
   "metadata": {},
   "source": [
    "The keys do not have to be strings. From python 2.7 you can use dictionary comprehensions as well"
   ]
  },
  {
   "cell_type": "code",
   "execution_count": 182,
   "metadata": {},
   "outputs": [
    {
     "output_type": "execute_result",
     "data": {
      "text/plain": [
       "{1: 1, 2: 4, 3: 9, 4: 16, 5: 25}"
      ]
     },
     "metadata": {},
     "execution_count": 182
    }
   ],
   "source": [
    "mydict ={k:v for (k,v) in zip(alist, asquaredlist)}\n",
    "mydict"
   ]
  },
  {
   "cell_type": "markdown",
   "metadata": {},
   "source": [
    "You can construct then nicely using the function `dict`."
   ]
  },
  {
   "cell_type": "code",
   "execution_count": 184,
   "metadata": {},
   "outputs": [
    {
     "output_type": "execute_result",
     "data": {
      "text/plain": [
       "{'a': 1, 'b': 2}"
      ]
     },
     "metadata": {},
     "execution_count": 184
    }
   ],
   "source": [
    "dict(a=1, b=2)"
   ]
  },
  {
   "cell_type": "markdown",
   "metadata": {},
   "source": [
    "###and conversion to json"
   ]
  },
  {
   "cell_type": "code",
   "execution_count": 186,
   "metadata": {},
   "outputs": [],
   "source": [
    "import json"
   ]
  },
  {
   "cell_type": "code",
   "execution_count": 188,
   "metadata": {},
   "outputs": [
    {
     "output_type": "stream",
     "name": "stdout",
     "text": [
      "{\"1\": 1, \"2\": 4, \"3\": 9, \"4\": 16, \"5\": 25}\n"
     ]
    }
   ],
   "source": [
    "s=json.dumps(mydict)\n",
    "print s"
   ]
  },
  {
   "cell_type": "code",
   "execution_count": 189,
   "metadata": {},
   "outputs": [
    {
     "output_type": "execute_result",
     "data": {
      "text/plain": [
       "{u'1': 1, u'2': 4, u'3': 9, u'4': 16, u'5': 25}"
      ]
     },
     "metadata": {},
     "execution_count": 189
    }
   ],
   "source": [
    "json.loads(s)"
   ]
  },
  {
   "cell_type": "markdown",
   "metadata": {},
   "source": [
    "## Strings\n",
    "\n",
    "Basically they behave like immutable lists"
   ]
  },
  {
   "cell_type": "code",
   "execution_count": 190,
   "metadata": {},
   "outputs": [
    {
     "output_type": "stream",
     "name": "stdout",
     "text": [
      "off.]\n"
     ]
    }
   ],
   "source": [
    "lastword=hamlettokens[-1]\n",
    "print(lastword)"
   ]
  },
  {
   "cell_type": "code",
   "execution_count": 191,
   "metadata": {},
   "outputs": [
    {
     "output_type": "error",
     "ename": "TypeError",
     "evalue": "'str' object does not support item assignment",
     "traceback": [
      "\u001b[0;31m\u001b[0m",
      "\u001b[0;31mTypeError\u001b[0mTraceback (most recent call last)",
      "\u001b[0;32m<ipython-input-191-a2b5f6b81b5d>\u001b[0m in \u001b[0;36m<module>\u001b[0;34m()\u001b[0m\n\u001b[0;32m----> 1\u001b[0;31m \u001b[0mlastword\u001b[0m\u001b[0;34m[\u001b[0m\u001b[0;34m-\u001b[0m\u001b[0;36m2\u001b[0m\u001b[0;34m]\u001b[0m\u001b[0;34m=\u001b[0m\u001b[0;34m\"k\"\u001b[0m\u001b[0;31m#cant change a part of a string\u001b[0m\u001b[0;34m\u001b[0m\u001b[0m\n\u001b[0m",
      "\u001b[0;31mTypeError\u001b[0m: 'str' object does not support item assignment"
     ]
    }
   ],
   "source": [
    "lastword[-2]=\"k\"#cant change a part of a string"
   ]
  },
  {
   "cell_type": "code",
   "execution_count": 32,
   "metadata": {},
   "outputs": [
    {
     "output_type": "execute_result",
     "data": {
      "text/plain": [
       "'.'"
      ]
     },
     "metadata": {},
     "execution_count": 32
    }
   ],
   "source": [
    "lastword[-2]"
   ]
  },
  {
   "cell_type": "code",
   "execution_count": 33,
   "metadata": {
    "collapsed": true
   },
   "outputs": [
    {
     "output_type": "error",
     "ename": "SyntaxError",
     "evalue": "invalid syntax (<ipython-input-33-79c0d1ffebad>, line 1)",
     "traceback": [
      "\u001b[0;36m  File \u001b[0;32m\"<ipython-input-33-79c0d1ffebad>\"\u001b[0;36m, line \u001b[0;32m1\u001b[0m\n\u001b[0;31m    You can join a list with a separator to make a string.\u001b[0m\n\u001b[0m          ^\u001b[0m\n\u001b[0;31mSyntaxError\u001b[0m\u001b[0;31m:\u001b[0m invalid syntax\n"
     ]
    }
   ],
   "source": [
    "You can join a list with a separator to make a string."
   ]
  },
  {
   "cell_type": "code",
   "execution_count": 34,
   "metadata": {},
   "outputs": [
    {
     "output_type": "execute_result",
     "data": {
      "text/plain": [
       "\"\\xef\\xbb\\xbfXXXX,HAMLET,,PRINCE,OF,DENMARK,by,William,Shakespeare,PERSONS,REPRESENTED.,Claudius,,King,of,Denmark.,Hamlet,,Son,to,the,former,,and,Nephew,to,the,present,King.,Polonius,,Lord,Chamberlain.,Horatio,,Friend,to,Hamlet.,Laertes,,Son,to,Polonius.,Voltimand,,Courtier.,Cornelius,,Courtier.,Rosencrantz,,Courtier.,Guildenstern,,Courtier.,Osric,,Courtier.,A,Gentleman,,Courtier.,A,Priest.,Marcellus,,Officer.,Bernardo,,Officer.,Francisco,,a,Soldier,Reynaldo,,Servant,to,Polonius.,Players.,Two,Clowns,,Grave-diggers.,Fortinbras,,Prince,of,Norway.,A,Captain.,English,Ambassadors.,Ghost,of,Hamlet's,Father.,Gertrude,,Queen,of,Denmark,,and,Mother,of,Hamlet.,Ophelia,,Daughter,to,Polonius.,Lords,,Ladies,,Officers,,Soldiers,,Sailors,,Messengers,,and,other,Attendants.,SCENE.,Elsinore.,ACT,I.,Scene,I.,Elsinore.,A,platform,before,the,Castle.,[Francisco,at,his,post.,Enter,to,him,Bernardo.],Ber.,Who's,there?,Fran.,Nay,,answer,me:,stand,,and,unfold,yourself.,Ber.,Long,live,the,king!,Fran.,Bernardo?,Ber.,He.,Fra\""
      ]
     },
     "metadata": {},
     "execution_count": 34
    }
   ],
   "source": [
    "wierdstring=\",\".join(hamlettokens)\n",
    "wierdstring[:1000]"
   ]
  },
  {
   "cell_type": "markdown",
   "metadata": {},
   "source": [
    "## Functions\n",
    "\n",
    "Functions are even more the bread and butter. You'll see them as methods on objects, or standing alone by themselves."
   ]
  },
  {
   "cell_type": "code",
   "execution_count": 35,
   "metadata": {},
   "outputs": [
    {
     "output_type": "execute_result",
     "data": {
      "text/plain": [
       "(25, 125)"
      ]
     },
     "metadata": {},
     "execution_count": 35
    }
   ],
   "source": [
    "def square(x):\n",
    "    return(x*x)\n",
    "def cube(x):\n",
    "    return x*x*x\n",
    "square(5),cube(5)"
   ]
  },
  {
   "cell_type": "code",
   "execution_count": 36,
   "metadata": {},
   "outputs": [
    {
     "output_type": "stream",
     "name": "stdout",
     "text": [
      "<function square at 0x7f754bc413d0> <type 'function'>\n"
     ]
    }
   ],
   "source": [
    "print square, type(cube)"
   ]
  },
  {
   "cell_type": "markdown",
   "metadata": {},
   "source": [
    "In Python, functions are \"first-class\". This is just a fancy way of saying, you can pass functions to other functions"
   ]
  },
  {
   "cell_type": "code",
   "execution_count": 37,
   "metadata": {},
   "outputs": [
    {
     "output_type": "stream",
     "name": "stdout",
     "text": [
      "3 4 <function square at 0x7f754bc413d0>\n"
     ]
    },
    {
     "output_type": "execute_result",
     "data": {
      "text/plain": [
       "25"
      ]
     },
     "metadata": {},
     "execution_count": 37
    }
   ],
   "source": [
    "def sum_of_anything(x,y,f):\n",
    "    print x,y,f\n",
    "    return(f(x) + f(y))\n",
    "sum_of_anything(3,4,square)"
   ]
  },
  {
   "cell_type": "markdown",
   "metadata": {},
   "source": [
    "Python functions can have positional arguments and keyword arguments. Positional arguments are stored in a tuple, and keyword arguments in a dictionary. Note the \"starred\" syntax"
   ]
  },
  {
   "cell_type": "code",
   "execution_count": 38,
   "metadata": {},
   "outputs": [
    {
     "output_type": "stream",
     "name": "stdout",
     "text": [
      "got 1 3 () {}\n1\ngot 1 3 (4,) {'c': 2, 'd': 1}\n1\n"
     ]
    }
   ],
   "source": [
    "def f(a,b,*posargs,**dictargs):\n",
    "    print \"got\",a,b,posargs, dictargs\n",
    "    return a\n",
    "print f(1,3)\n",
    "print f(1,3,4,d=1,c=2)"
   ]
  },
  {
   "cell_type": "markdown",
   "metadata": {},
   "source": [
    ">**YOUR TURN** create a dictionary with keys the integers upto and including 10, and values the cubes of these dictionaries"
   ]
  },
  {
   "cell_type": "code",
   "execution_count": 40,
   "metadata": {},
   "outputs": [
    {
     "output_type": "execute_result",
     "data": {
      "text/plain": [
       "{0: 0,\n",
       " 1: 1,\n",
       " 2: 8,\n",
       " 3: 27,\n",
       " 4: 64,\n",
       " 5: 125,\n",
       " 6: 216,\n",
       " 7: 343,\n",
       " 8: 512,\n",
       " 9: 729,\n",
       " 10: 1000}"
      ]
     },
     "metadata": {},
     "execution_count": 40
    }
   ],
   "source": [
    "#your code here\n",
    "\n",
    "newlist = []\n",
    "for i in xrange(11):\n",
    "    newlist.append(i)\n",
    "cubelist = []\n",
    "for j in newlist:\n",
    "    cubelist.append(cube(j))\n",
    "cubedict={i:j for (i,j) in zip(newlist,cubelist)}\n",
    "cubedict"
   ]
  },
  {
   "cell_type": "markdown",
   "metadata": {},
   "source": [
    "## Booleans and Control-flow\n",
    "\n",
    "Lets test for belonging..."
   ]
  },
  {
   "cell_type": "code",
   "execution_count": 32,
   "metadata": {},
   "outputs": [
    {
     "data": {
      "text/plain": [
       "True"
      ]
     },
     "execution_count": 32,
     "metadata": {},
     "output_type": "execute_result"
    }
   ],
   "source": [
    "a=[1,2,3,4,5]\n",
    "1 in a"
   ]
  },
  {
   "cell_type": "code",
   "execution_count": 33,
   "metadata": {},
   "outputs": [
    {
     "data": {
      "text/plain": [
       "False"
      ]
     },
     "execution_count": 33,
     "metadata": {},
     "output_type": "execute_result"
    }
   ],
   "source": [
    "6 in a"
   ]
  },
  {
   "cell_type": "markdown",
   "metadata": {},
   "source": [
    "Python supports if/elif/else clauses for multi-way conditionals"
   ]
  },
  {
   "cell_type": "code",
   "execution_count": 34,
   "metadata": {},
   "outputs": [
    {
     "name": "stdout",
     "output_type": "stream",
     "text": [
      "One\n"
     ]
    }
   ],
   "source": [
    "def do_it(x):\n",
    "    if x==1:\n",
    "        print \"One\"\n",
    "    elif x==2:\n",
    "        print \"Two\"\n",
    "    else:\n",
    "        print x\n",
    "do_it(1)"
   ]
  },
  {
   "cell_type": "code",
   "execution_count": 35,
   "metadata": {},
   "outputs": [
    {
     "name": "stdout",
     "output_type": "stream",
     "text": [
      "Two\n",
      "3\n"
     ]
    },
    {
     "data": {
      "text/plain": [
       "(None, None)"
      ]
     },
     "execution_count": 35,
     "metadata": {},
     "output_type": "execute_result"
    }
   ],
   "source": [
    "do_it(2), do_it(3)"
   ]
  },
  {
   "cell_type": "markdown",
   "metadata": {},
   "source": [
    "You can `break` out of a loop based on a condition. The loop below is a for loop."
   ]
  },
  {
   "cell_type": "code",
   "execution_count": 36,
   "metadata": {},
   "outputs": [
    {
     "name": "stdout",
     "output_type": "stream",
     "text": [
      "0\n",
      "1\n",
      "2\n",
      "3\n",
      "4\n",
      "5\n",
      "6\n"
     ]
    }
   ],
   "source": [
    "for i in range(10):\n",
    "    print i\n",
    "    if (i > 5):\n",
    "        break"
   ]
  },
  {
   "cell_type": "markdown",
   "metadata": {},
   "source": [
    "While loops are also supported. `continue` continues to the next iteration of the loop skipping all the code below, while `break` breaks out of it."
   ]
  },
  {
   "cell_type": "code",
   "execution_count": 37,
   "metadata": {},
   "outputs": [
    {
     "name": "stdout",
     "output_type": "stream",
     "text": [
      "0\n",
      "1\n",
      "2\n",
      "3\n",
      "4\n"
     ]
    }
   ],
   "source": [
    "i=0\n",
    "while i < 10:\n",
    "    print i\n",
    "    i=i+1\n",
    "    if i < 5:\n",
    "        continue\n",
    "    else:\n",
    "        break\n"
   ]
  },
  {
   "cell_type": "markdown",
   "metadata": {},
   "source": [
    "## Exceptions\n",
    "\n",
    "This is the way to catch errors."
   ]
  },
  {
   "cell_type": "code",
   "execution_count": 192,
   "metadata": {},
   "outputs": [
    {
     "output_type": "stream",
     "name": "stdout",
     "text": [
      "(<type 'exceptions.TypeError'>, TypeError('f() takes at least 2 arguments (1 given)',), <traceback object at 0x7f754b6f4230>)\n"
     ]
    }
   ],
   "source": [
    "try:\n",
    "    f(1)#takes atleast 2 arguments\n",
    "except:\n",
    "    import sys\n",
    "    print sys.exc_info()"
   ]
  },
  {
   "cell_type": "markdown",
   "metadata": {},
   "source": [
    "## All together now\n",
    "\n",
    "Lets see what hamlet gives us. We convert all words to lower-case"
   ]
  },
  {
   "cell_type": "code",
   "execution_count": 193,
   "metadata": {},
   "outputs": [
    {
     "output_type": "execute_result",
     "data": {
      "text/plain": [
       "95"
      ]
     },
     "metadata": {},
     "execution_count": 193
    }
   ],
   "source": [
    "hamletlctokens=[word.lower() for word in hamlettokens]\n",
    "hamletlctokens.count(\"thou\")"
   ]
  },
  {
   "cell_type": "markdown",
   "metadata": {},
   "source": [
    "We then find a unique set of words using python's `set` data structure. We count how often those words occured usinf the `count` method on lists."
   ]
  },
  {
   "cell_type": "code",
   "execution_count": 194,
   "metadata": {},
   "outputs": [],
   "source": [
    "uniquelctokens=set(hamletlctokens)"
   ]
  },
  {
   "cell_type": "code",
   "execution_count": 195,
   "metadata": {},
   "outputs": [],
   "source": [
    "tokendict={}\n",
    "for ut in uniquelctokens:\n",
    "    tokendict[ut]=hamletlctokens.count(ut)"
   ]
  },
  {
   "cell_type": "markdown",
   "metadata": {},
   "source": [
    "We find the 100 most used words..."
   ]
  },
  {
   "cell_type": "code",
   "execution_count": 196,
   "metadata": {},
   "outputs": [
    {
     "output_type": "execute_result",
     "data": {
      "text/plain": [
       "[('the', 1136),\n",
       " ('and', 943),\n",
       " ('to', 720),\n",
       " ('of', 667),\n",
       " ('a', 527),\n",
       " ('my', 512),\n",
       " ('i', 510),\n",
       " ('in', 420),\n",
       " ('you', 412),\n",
       " ('ham.', 358),\n",
       " ('that', 337),\n",
       " ('it', 324),\n",
       " ('is', 320),\n",
       " ('his', 295),\n",
       " ('not', 270),\n",
       " ('with', 264),\n",
       " ('this', 250),\n",
       " ('your', 241),\n",
       " ('for', 231),\n",
       " ('but', 228),\n",
       " ('as', 216),\n",
       " ('he', 202),\n",
       " ('be', 201),\n",
       " ('what', 183),\n",
       " ('have', 174),\n",
       " ('will', 149),\n",
       " ('so', 143),\n",
       " ('me', 142),\n",
       " ('we', 132),\n",
       " ('do', 128),\n",
       " ('are', 126),\n",
       " ('him', 122),\n",
       " ('our', 119),\n",
       " ('king.', 113),\n",
       " ('by', 111),\n",
       " ('hor.', 110),\n",
       " ('or', 109),\n",
       " ('if', 109),\n",
       " ('on', 109),\n",
       " ('no', 107),\n",
       " ('shall', 106),\n",
       " ('thou', 95),\n",
       " ('all', 95),\n",
       " ('from', 95),\n",
       " ('they', 93),\n",
       " ('let', 92),\n",
       " ('good', 88),\n",
       " ('at', 86),\n",
       " ('thy', 86),\n",
       " ('pol.', 86),\n",
       " ('how', 84),\n",
       " ('most', 82),\n",
       " ('lord,', 81),\n",
       " ('her', 76),\n",
       " ('more', 76),\n",
       " ('queen.', 76),\n",
       " ('like', 75),\n",
       " ('would', 74),\n",
       " ('was', 73),\n",
       " (\"'tis\", 70),\n",
       " ('you,', 66),\n",
       " ('may', 65),\n",
       " ('very', 64),\n",
       " ('laer.', 62),\n",
       " ('hath', 62),\n",
       " ('[enter', 61),\n",
       " ('lord.', 60),\n",
       " ('did', 59),\n",
       " ('give', 58),\n",
       " ('must', 58),\n",
       " ('oph.', 58),\n",
       " ('their', 57),\n",
       " ('o,', 57),\n",
       " ('know', 57),\n",
       " (\"i'll\", 56),\n",
       " ('an', 55),\n",
       " ('should', 55),\n",
       " ('which', 55),\n",
       " ('some', 54),\n",
       " ('when', 54),\n",
       " ('come', 54),\n",
       " ('upon', 53),\n",
       " ('make', 53),\n",
       " ('am', 52),\n",
       " ('such', 51),\n",
       " ('ros.', 51),\n",
       " ('than', 51),\n",
       " ('there', 50),\n",
       " ('where', 49),\n",
       " ('now', 48),\n",
       " ('go', 48),\n",
       " ('o', 46),\n",
       " ('us', 46),\n",
       " ('clown.', 45),\n",
       " ('much', 44),\n",
       " ('had', 44),\n",
       " ('these', 44),\n",
       " ('them', 44),\n",
       " ('she', 43),\n",
       " ('out', 43)]"
      ]
     },
     "metadata": {},
     "execution_count": 196
    }
   ],
   "source": [
    "L=sorted(tokendict.iteritems(), key= lambda (k,v):v, reverse=True)[:100]\n",
    "L"
   ]
  },
  {
   "cell_type": "markdown",
   "metadata": {},
   "source": [
    "Lets get the top 20 of this and plot a bar chart!"
   ]
  },
  {
   "cell_type": "code",
   "execution_count": 197,
   "metadata": {},
   "outputs": [
    {
     "output_type": "stream",
     "name": "stdout",
     "text": [
      "[('the', 1136), ('and', 943), ('to', 720), ('of', 667), ('a', 527), ('my', 512), ('i', 510), ('in', 420), ('you', 412), ('ham.', 358), ('that', 337), ('it', 324), ('is', 320), ('his', 295), ('not', 270), ('with', 264), ('this', 250), ('your', 241), ('for', 231), ('but', 228)]\n"
     ]
    },
    {
     "output_type": "display_data",
     "data": {
      "image/png": "[encoded data removed]",
      "text/plain": "<Figure size 432x288 with 1 Axes>",
      "image/svg+xml": "<?xml version=\"1.0\" encoding=\"utf-8\" standalone=\"no\"?>\n<!DOCTYPE svg PUBLIC \"-//W3C//DTD SVG 1.1//EN\"\n  \"http://www.w3.org/Graphics/SVG/1.1/DTD/svg11.dtd\">\n<!-- Created with matplotlib (http://matplotlib.org/) -->\n<svg height=\"252.018125pt\" version=\"1.1\" viewBox=\"0 0 385.15 252.018125\" width=\"385.15pt\" xmlns=\"http://www.w3.org/2000/svg\" xmlns:xlink=\"http://www.w3.org/1999/xlink\">\n <defs>\n  <style type=\"text/css\">\n*{stroke-linecap:butt;stroke-linejoin:round;}\n  </style>\n </defs>\n <g id=\"figure_1\">\n  <g id=\"patch_1\">\n   <path d=\"M -0 252.018125 \nL 385.15 252.018125 \nL 385.15 0 \nL -0 0 \nz\n\" style=\"fill:none;\"/>\n  </g>\n  <g id=\"axes_1\">\n   <g id=\"patch_2\">\n    <path d=\"M 39.65 228.14 \nL 374.45 228.14 \nL 374.45 10.7 \nL 39.65 10.7 \nz\n\" style=\"fill:#ffffff;\"/>\n   </g>\n   <g id=\"patch_3\">\n    <path clip-path=\"url(#pec7a3f2bac)\" d=\"M 54.868182 228.14 \nL 67.165702 228.14 \nL 67.165702 21.054286 \nL 54.868182 21.054286 \nz\n\" style=\"fill:#1f77b4;\"/>\n   </g>\n   <g id=\"patch_4\">\n    <path clip-path=\"url(#pec7a3f2bac)\" d=\"M 70.240083 228.14 \nL 82.537603 228.14 \nL 82.537603 56.236982 \nL 70.240083 56.236982 \nz\n\" style=\"fill:#1f77b4;\"/>\n   </g>\n   <g id=\"patch_5\">\n    <path clip-path=\"url(#pec7a3f2bac)\" d=\"M 85.611983 228.14 \nL 97.909504 228.14 \nL 97.909504 96.888491 \nL 85.611983 96.888491 \nz\n\" style=\"fill:#1f77b4;\"/>\n   </g>\n   <g id=\"patch_6\">\n    <path clip-path=\"url(#pec7a3f2bac)\" d=\"M 100.983884 228.14 \nL 113.281405 228.14 \nL 113.281405 106.55006 \nL 100.983884 106.55006 \nz\n\" style=\"fill:#1f77b4;\"/>\n   </g>\n   <g id=\"patch_7\">\n    <path clip-path=\"url(#pec7a3f2bac)\" d=\"M 116.355785 228.14 \nL 128.653306 228.14 \nL 128.653306 132.071187 \nL 116.355785 132.071187 \nz\n\" style=\"fill:#1f77b4;\"/>\n   </g>\n   <g id=\"patch_8\">\n    <path clip-path=\"url(#pec7a3f2bac)\" d=\"M 131.727686 228.14 \nL 144.025207 228.14 \nL 144.025207 134.805594 \nL 131.727686 134.805594 \nz\n\" style=\"fill:#1f77b4;\"/>\n   </g>\n   <g id=\"patch_9\">\n    <path clip-path=\"url(#pec7a3f2bac)\" d=\"M 147.099587 228.14 \nL 159.397107 228.14 \nL 159.397107 135.170181 \nL 147.099587 135.170181 \nz\n\" style=\"fill:#1f77b4;\"/>\n   </g>\n   <g id=\"patch_10\">\n    <path clip-path=\"url(#pec7a3f2bac)\" d=\"M 162.471488 228.14 \nL 174.769008 228.14 \nL 174.769008 151.57662 \nL 162.471488 151.57662 \nz\n\" style=\"fill:#1f77b4;\"/>\n   </g>\n   <g id=\"patch_11\">\n    <path clip-path=\"url(#pec7a3f2bac)\" d=\"M 177.843388 228.14 \nL 190.140909 228.14 \nL 190.140909 153.03497 \nL 177.843388 153.03497 \nz\n\" style=\"fill:#1f77b4;\"/>\n   </g>\n   <g id=\"patch_12\">\n    <path clip-path=\"url(#pec7a3f2bac)\" d=\"M 193.215289 228.14 \nL 205.51281 228.14 \nL 205.51281 162.878833 \nL 193.215289 162.878833 \nz\n\" style=\"fill:#1f77b4;\"/>\n   </g>\n   <g id=\"patch_13\">\n    <path clip-path=\"url(#pec7a3f2bac)\" d=\"M 208.58719 228.14 \nL 220.884711 228.14 \nL 220.884711 166.707002 \nL 208.58719 166.707002 \nz\n\" style=\"fill:#1f77b4;\"/>\n   </g>\n   <g id=\"patch_14\">\n    <path clip-path=\"url(#pec7a3f2bac)\" d=\"M 223.959091 228.14 \nL 236.256612 228.14 \nL 236.256612 169.076821 \nL 223.959091 169.076821 \nz\n\" style=\"fill:#1f77b4;\"/>\n   </g>\n   <g id=\"patch_15\">\n    <path clip-path=\"url(#pec7a3f2bac)\" d=\"M 239.330992 228.14 \nL 251.628512 228.14 \nL 251.628512 169.805996 \nL 239.330992 169.805996 \nz\n\" style=\"fill:#1f77b4;\"/>\n   </g>\n   <g id=\"patch_16\">\n    <path clip-path=\"url(#pec7a3f2bac)\" d=\"M 254.702893 228.14 \nL 267.000413 228.14 \nL 267.000413 174.36334 \nL 254.702893 174.36334 \nz\n\" style=\"fill:#1f77b4;\"/>\n   </g>\n   <g id=\"patch_17\">\n    <path clip-path=\"url(#pec7a3f2bac)\" d=\"M 270.074793 228.14 \nL 282.372314 228.14 \nL 282.372314 178.920684 \nL 270.074793 178.920684 \nz\n\" style=\"fill:#1f77b4;\"/>\n   </g>\n   <g id=\"patch_18\">\n    <path clip-path=\"url(#pec7a3f2bac)\" d=\"M 285.446694 228.14 \nL 297.744215 228.14 \nL 297.744215 180.014447 \nL 285.446694 180.014447 \nz\n\" style=\"fill:#1f77b4;\"/>\n   </g>\n   <g id=\"patch_19\">\n    <path clip-path=\"url(#pec7a3f2bac)\" d=\"M 300.818595 228.14 \nL 313.116116 228.14 \nL 313.116116 182.566559 \nL 300.818595 182.566559 \nz\n\" style=\"fill:#1f77b4;\"/>\n   </g>\n   <g id=\"patch_20\">\n    <path clip-path=\"url(#pec7a3f2bac)\" d=\"M 316.190496 228.14 \nL 328.488017 228.14 \nL 328.488017 184.207203 \nL 316.190496 184.207203 \nz\n\" style=\"fill:#1f77b4;\"/>\n   </g>\n   <g id=\"patch_21\">\n    <path clip-path=\"url(#pec7a3f2bac)\" d=\"M 331.562397 228.14 \nL 343.859917 228.14 \nL 343.859917 186.030141 \nL 331.562397 186.030141 \nz\n\" style=\"fill:#1f77b4;\"/>\n   </g>\n   <g id=\"patch_22\">\n    <path clip-path=\"url(#pec7a3f2bac)\" d=\"M 346.934298 228.14 \nL 359.231818 228.14 \nL 359.231818 186.577022 \nL 346.934298 186.577022 \nz\n\" style=\"fill:#1f77b4;\"/>\n   </g>\n   <g id=\"matplotlib.axis_1\">\n    <g id=\"xtick_1\">\n     <g id=\"line2d_1\">\n      <defs>\n       <path d=\"M 0 0 \nL 0 3.5 \n\" id=\"m76f80afa97\" style=\"stroke:#000000;stroke-width:0.8;\"/>\n      </defs>\n      <g>\n       <use style=\"stroke:#000000;stroke-width:0.8;\" x=\"67.165702\" xlink:href=\"#m76f80afa97\" y=\"228.14\"/>\n      </g>\n     </g>\n     <g id=\"text_1\">\n      <!-- the -->\n      <defs>\n       <path d=\"M 18.3125 70.21875 \nL 18.3125 54.6875 \nL 36.8125 54.6875 \nL 36.8125 47.703125 \nL 18.3125 47.703125 \nL 18.3125 18.015625 \nQ 18.3125 11.328125 20.140625 9.421875 \nQ 21.96875 7.515625 27.59375 7.515625 \nL 36.8125 7.515625 \nL 36.8125 0 \nL 27.59375 0 \nQ 17.1875 0 13.234375 3.875 \nQ 9.28125 7.765625 9.28125 18.015625 \nL 9.28125 47.703125 \nL 2.6875 47.703125 \nL 2.6875 54.6875 \nL 9.28125 54.6875 \nL 9.28125 70.21875 \nz\n\" id=\"DejaVuSans-74\"/>\n       <path d=\"M 54.890625 33.015625 \nL 54.890625 0 \nL 45.90625 0 \nL 45.90625 32.71875 \nQ 45.90625 40.484375 42.875 44.328125 \nQ 39.84375 48.1875 33.796875 48.1875 \nQ 26.515625 48.1875 22.3125 43.546875 \nQ 18.109375 38.921875 18.109375 30.90625 \nL 18.109375 0 \nL 9.078125 0 \nL 9.078125 75.984375 \nL 18.109375 75.984375 \nL 18.109375 46.1875 \nQ 21.34375 51.125 25.703125 53.5625 \nQ 30.078125 56 35.796875 56 \nQ 45.21875 56 50.046875 50.171875 \nQ 54.890625 44.34375 54.890625 33.015625 \nz\n\" id=\"DejaVuSans-68\"/>\n       <path d=\"M 56.203125 29.59375 \nL 56.203125 25.203125 \nL 14.890625 25.203125 \nQ 15.484375 15.921875 20.484375 11.0625 \nQ 25.484375 6.203125 34.421875 6.203125 \nQ 39.59375 6.203125 44.453125 7.46875 \nQ 49.3125 8.734375 54.109375 11.28125 \nL 54.109375 2.78125 \nQ 49.265625 0.734375 44.1875 -0.34375 \nQ 39.109375 -1.421875 33.890625 -1.421875 \nQ 20.796875 -1.421875 13.15625 6.1875 \nQ 5.515625 13.8125 5.515625 26.8125 \nQ 5.515625 40.234375 12.765625 48.109375 \nQ 20.015625 56 32.328125 56 \nQ 43.359375 56 49.78125 48.890625 \nQ 56.203125 41.796875 56.203125 29.59375 \nz\nM 47.21875 32.234375 \nQ 47.125 39.59375 43.09375 43.984375 \nQ 39.0625 48.390625 32.421875 48.390625 \nQ 24.90625 48.390625 20.390625 44.140625 \nQ 15.875 39.890625 15.1875 32.171875 \nz\n\" id=\"DejaVuSans-65\"/>\n      </defs>\n      <g transform=\"translate(58.960234 242.738437)scale(0.1 -0.1)\">\n       <use xlink:href=\"#DejaVuSans-74\"/>\n       <use x=\"39.208984\" xlink:href=\"#DejaVuSans-68\"/>\n       <use x=\"102.587891\" xlink:href=\"#DejaVuSans-65\"/>\n      </g>\n     </g>\n    </g>\n    <g id=\"xtick_2\">\n     <g id=\"line2d_2\">\n      <g>\n       <use style=\"stroke:#000000;stroke-width:0.8;\" x=\"82.537603\" xlink:href=\"#m76f80afa97\" y=\"228.14\"/>\n      </g>\n     </g>\n     <g id=\"text_2\">\n      <!-- and -->\n      <defs>\n       <path d=\"M 34.28125 27.484375 \nQ 23.390625 27.484375 19.1875 25 \nQ 14.984375 22.515625 14.984375 16.5 \nQ 14.984375 11.71875 18.140625 8.90625 \nQ 21.296875 6.109375 26.703125 6.109375 \nQ 34.1875 6.109375 38.703125 11.40625 \nQ 43.21875 16.703125 43.21875 25.484375 \nL 43.21875 27.484375 \nz\nM 52.203125 31.203125 \nL 52.203125 0 \nL 43.21875 0 \nL 43.21875 8.296875 \nQ 40.140625 3.328125 35.546875 0.953125 \nQ 30.953125 -1.421875 24.3125 -1.421875 \nQ 15.921875 -1.421875 10.953125 3.296875 \nQ 6 8.015625 6 15.921875 \nQ 6 25.140625 12.171875 29.828125 \nQ 18.359375 34.515625 30.609375 34.515625 \nL 43.21875 34.515625 \nL 43.21875 35.40625 \nQ 43.21875 41.609375 39.140625 45 \nQ 35.0625 48.390625 27.6875 48.390625 \nQ 23 48.390625 18.546875 47.265625 \nQ 14.109375 46.140625 10.015625 43.890625 \nL 10.015625 52.203125 \nQ 14.9375 54.109375 19.578125 55.046875 \nQ 24.21875 56 28.609375 56 \nQ 40.484375 56 46.34375 49.84375 \nQ 52.203125 43.703125 52.203125 31.203125 \nz\n\" id=\"DejaVuSans-61\"/>\n       <path d=\"M 54.890625 33.015625 \nL 54.890625 0 \nL 45.90625 0 \nL 45.90625 32.71875 \nQ 45.90625 40.484375 42.875 44.328125 \nQ 39.84375 48.1875 33.796875 48.1875 \nQ 26.515625 48.1875 22.3125 43.546875 \nQ 18.109375 38.921875 18.109375 30.90625 \nL 18.109375 0 \nL 9.078125 0 \nL 9.078125 54.6875 \nL 18.109375 54.6875 \nL 18.109375 46.1875 \nQ 21.34375 51.125 25.703125 53.5625 \nQ 30.078125 56 35.796875 56 \nQ 45.21875 56 50.046875 50.171875 \nQ 54.890625 44.34375 54.890625 33.015625 \nz\n\" id=\"DejaVuSans-6e\"/>\n       <path d=\"M 45.40625 46.390625 \nL 45.40625 75.984375 \nL 54.390625 75.984375 \nL 54.390625 0 \nL 45.40625 0 \nL 45.40625 8.203125 \nQ 42.578125 3.328125 38.25 0.953125 \nQ 33.9375 -1.421875 27.875 -1.421875 \nQ 17.96875 -1.421875 11.734375 6.484375 \nQ 5.515625 14.40625 5.515625 27.296875 \nQ 5.515625 40.1875 11.734375 48.09375 \nQ 17.96875 56 27.875 56 \nQ 33.9375 56 38.25 53.625 \nQ 42.578125 51.265625 45.40625 46.390625 \nz\nM 14.796875 27.296875 \nQ 14.796875 17.390625 18.875 11.75 \nQ 22.953125 6.109375 30.078125 6.109375 \nQ 37.203125 6.109375 41.296875 11.75 \nQ 45.40625 17.390625 45.40625 27.296875 \nQ 45.40625 37.203125 41.296875 42.84375 \nQ 37.203125 48.484375 30.078125 48.484375 \nQ 22.953125 48.484375 18.875 42.84375 \nQ 14.796875 37.203125 14.796875 27.296875 \nz\n\" id=\"DejaVuSans-64\"/>\n      </defs>\n      <g transform=\"translate(73.130572 242.738437)scale(0.1 -0.1)\">\n       <use xlink:href=\"#DejaVuSans-61\"/>\n       <use x=\"61.279297\" xlink:href=\"#DejaVuSans-6e\"/>\n       <use x=\"124.658203\" xlink:href=\"#DejaVuSans-64\"/>\n      </g>\n     </g>\n    </g>\n    <g id=\"xtick_3\">\n     <g id=\"line2d_3\">\n      <g>\n       <use style=\"stroke:#000000;stroke-width:0.8;\" x=\"97.909504\" xlink:href=\"#m76f80afa97\" y=\"228.14\"/>\n      </g>\n     </g>\n     <g id=\"text_3\">\n      <!-- to -->\n      <defs>\n       <path d=\"M 30.609375 48.390625 \nQ 23.390625 48.390625 19.1875 42.75 \nQ 14.984375 37.109375 14.984375 27.296875 \nQ 14.984375 17.484375 19.15625 11.84375 \nQ 23.34375 6.203125 30.609375 6.203125 \nQ 37.796875 6.203125 41.984375 11.859375 \nQ 46.1875 17.53125 46.1875 27.296875 \nQ 46.1875 37.015625 41.984375 42.703125 \nQ 37.796875 48.390625 30.609375 48.390625 \nz\nM 30.609375 56 \nQ 42.328125 56 49.015625 48.375 \nQ 55.71875 40.765625 55.71875 27.296875 \nQ 55.71875 13.875 49.015625 6.21875 \nQ 42.328125 -1.421875 30.609375 -1.421875 \nQ 18.84375 -1.421875 12.171875 6.21875 \nQ 5.515625 13.875 5.515625 27.296875 \nQ 5.515625 40.765625 12.171875 48.375 \nQ 18.84375 56 30.609375 56 \nz\n\" id=\"DejaVuSans-6f\"/>\n      </defs>\n      <g transform=\"translate(92.889973 242.738437)scale(0.1 -0.1)\">\n       <use xlink:href=\"#DejaVuSans-74\"/>\n       <use x=\"39.208984\" xlink:href=\"#DejaVuSans-6f\"/>\n      </g>\n     </g>\n    </g>\n    <g id=\"xtick_4\">\n     <g id=\"line2d_4\">\n      <g>\n       <use style=\"stroke:#000000;stroke-width:0.8;\" x=\"113.281405\" xlink:href=\"#m76f80afa97\" y=\"228.14\"/>\n      </g>\n     </g>\n     <g id=\"text_4\">\n      <!-- of -->\n      <defs>\n       <path d=\"M 37.109375 75.984375 \nL 37.109375 68.5 \nL 28.515625 68.5 \nQ 23.6875 68.5 21.796875 66.546875 \nQ 19.921875 64.59375 19.921875 59.515625 \nL 19.921875 54.6875 \nL 34.71875 54.6875 \nL 34.71875 47.703125 \nL 19.921875 47.703125 \nL 19.921875 0 \nL 10.890625 0 \nL 10.890625 47.703125 \nL 2.296875 47.703125 \nL 2.296875 54.6875 \nL 10.890625 54.6875 \nL 10.890625 58.5 \nQ 10.890625 67.625 15.140625 71.796875 \nQ 19.390625 75.984375 28.609375 75.984375 \nz\n\" id=\"DejaVuSans-66\"/>\n      </defs>\n      <g transform=\"translate(108.461874 242.738437)scale(0.1 -0.1)\">\n       <use xlink:href=\"#DejaVuSans-6f\"/>\n       <use x=\"61.181641\" xlink:href=\"#DejaVuSans-66\"/>\n      </g>\n     </g>\n    </g>\n    <g id=\"xtick_5\">\n     <g id=\"line2d_5\">\n      <g>\n       <use style=\"stroke:#000000;stroke-width:0.8;\" x=\"128.653306\" xlink:href=\"#m76f80afa97\" y=\"228.14\"/>\n      </g>\n     </g>\n     <g id=\"text_5\">\n      <!-- a -->\n      <g transform=\"translate(125.589243 242.738437)scale(0.1 -0.1)\">\n       <use xlink:href=\"#DejaVuSans-61\"/>\n      </g>\n     </g>\n    </g>\n    <g id=\"xtick_6\">\n     <g id=\"line2d_6\">\n      <g>\n       <use style=\"stroke:#000000;stroke-width:0.8;\" x=\"144.025207\" xlink:href=\"#m76f80afa97\" y=\"228.14\"/>\n      </g>\n     </g>\n     <g id=\"text_6\">\n      <!-- my -->\n      <defs>\n       <path d=\"M 52 44.1875 \nQ 55.375 50.25 60.0625 53.125 \nQ 64.75 56 71.09375 56 \nQ 79.640625 56 84.28125 50.015625 \nQ 88.921875 44.046875 88.921875 33.015625 \nL 88.921875 0 \nL 79.890625 0 \nL 79.890625 32.71875 \nQ 79.890625 40.578125 77.09375 44.375 \nQ 74.3125 48.1875 68.609375 48.1875 \nQ 61.625 48.1875 57.5625 43.546875 \nQ 53.515625 38.921875 53.515625 30.90625 \nL 53.515625 0 \nL 44.484375 0 \nL 44.484375 32.71875 \nQ 44.484375 40.625 41.703125 44.40625 \nQ 38.921875 48.1875 33.109375 48.1875 \nQ 26.21875 48.1875 22.15625 43.53125 \nQ 18.109375 38.875 18.109375 30.90625 \nL 18.109375 0 \nL 9.078125 0 \nL 9.078125 54.6875 \nL 18.109375 54.6875 \nL 18.109375 46.1875 \nQ 21.1875 51.21875 25.484375 53.609375 \nQ 29.78125 56 35.6875 56 \nQ 41.65625 56 45.828125 52.96875 \nQ 50 49.953125 52 44.1875 \nz\n\" id=\"DejaVuSans-6d\"/>\n       <path d=\"M 32.171875 -5.078125 \nQ 28.375 -14.84375 24.75 -17.8125 \nQ 21.140625 -20.796875 15.09375 -20.796875 \nL 7.90625 -20.796875 \nL 7.90625 -13.28125 \nL 13.1875 -13.28125 \nQ 16.890625 -13.28125 18.9375 -11.515625 \nQ 21 -9.765625 23.484375 -3.21875 \nL 25.09375 0.875 \nL 2.984375 54.6875 \nL 12.5 54.6875 \nL 29.59375 11.921875 \nL 46.6875 54.6875 \nL 56.203125 54.6875 \nz\n\" id=\"DejaVuSans-79\"/>\n      </defs>\n      <g transform=\"translate(136.195519 242.738437)scale(0.1 -0.1)\">\n       <use xlink:href=\"#DejaVuSans-6d\"/>\n       <use x=\"97.412109\" xlink:href=\"#DejaVuSans-79\"/>\n      </g>\n     </g>\n    </g>\n    <g id=\"xtick_7\">\n     <g id=\"line2d_7\">\n      <g>\n       <use style=\"stroke:#000000;stroke-width:0.8;\" x=\"159.397107\" xlink:href=\"#m76f80afa97\" y=\"228.14\"/>\n      </g>\n     </g>\n     <g id=\"text_7\">\n      <!-- i -->\n      <defs>\n       <path d=\"M 9.421875 54.6875 \nL 18.40625 54.6875 \nL 18.40625 0 \nL 9.421875 0 \nz\nM 9.421875 75.984375 \nL 18.40625 75.984375 \nL 18.40625 64.59375 \nL 9.421875 64.59375 \nz\n\" id=\"DejaVuSans-69\"/>\n      </defs>\n      <g transform=\"translate(158.008045 242.738437)scale(0.1 -0.1)\">\n       <use xlink:href=\"#DejaVuSans-69\"/>\n      </g>\n     </g>\n    </g>\n    <g id=\"xtick_8\">\n     <g id=\"line2d_8\">\n      <g>\n       <use style=\"stroke:#000000;stroke-width:0.8;\" x=\"174.769008\" xlink:href=\"#m76f80afa97\" y=\"228.14\"/>\n      </g>\n     </g>\n     <g id=\"text_8\">\n      <!-- in -->\n      <g transform=\"translate(170.211196 242.738437)scale(0.1 -0.1)\">\n       <use xlink:href=\"#DejaVuSans-69\"/>\n       <use x=\"27.783203\" xlink:href=\"#DejaVuSans-6e\"/>\n      </g>\n     </g>\n    </g>\n    <g id=\"xtick_9\">\n     <g id=\"line2d_9\">\n      <g>\n       <use style=\"stroke:#000000;stroke-width:0.8;\" x=\"190.140909\" xlink:href=\"#m76f80afa97\" y=\"228.14\"/>\n      </g>\n     </g>\n     <g id=\"text_9\">\n      <!-- you -->\n      <defs>\n       <path d=\"M 8.5 21.578125 \nL 8.5 54.6875 \nL 17.484375 54.6875 \nL 17.484375 21.921875 \nQ 17.484375 14.15625 20.5 10.265625 \nQ 23.53125 6.390625 29.59375 6.390625 \nQ 36.859375 6.390625 41.078125 11.03125 \nQ 45.3125 15.671875 45.3125 23.6875 \nL 45.3125 54.6875 \nL 54.296875 54.6875 \nL 54.296875 0 \nL 45.3125 0 \nL 45.3125 8.40625 \nQ 42.046875 3.421875 37.71875 1 \nQ 33.40625 -1.421875 27.6875 -1.421875 \nQ 18.265625 -1.421875 13.375 4.4375 \nQ 8.5 10.296875 8.5 21.578125 \nz\nM 31.109375 56 \nz\n\" id=\"DejaVuSans-75\"/>\n      </defs>\n      <g transform=\"translate(180.953409 242.738437)scale(0.1 -0.1)\">\n       <use xlink:href=\"#DejaVuSans-79\"/>\n       <use x=\"59.179688\" xlink:href=\"#DejaVuSans-6f\"/>\n       <use x=\"120.361328\" xlink:href=\"#DejaVuSans-75\"/>\n      </g>\n     </g>\n    </g>\n    <g id=\"xtick_10\">\n     <g id=\"line2d_10\">\n      <g>\n       <use style=\"stroke:#000000;stroke-width:0.8;\" x=\"205.51281\" xlink:href=\"#m76f80afa97\" y=\"228.14\"/>\n      </g>\n     </g>\n     <g id=\"text_10\">\n      <!-- ham. -->\n      <defs>\n       <path d=\"M 10.6875 12.40625 \nL 21 12.40625 \nL 21 0 \nL 10.6875 0 \nz\n\" id=\"DejaVuSans-2e\"/>\n      </defs>\n      <g transform=\"translate(192.820622 242.738437)scale(0.1 -0.1)\">\n       <use xlink:href=\"#DejaVuSans-68\"/>\n       <use x=\"63.378906\" xlink:href=\"#DejaVuSans-61\"/>\n       <use x=\"124.658203\" xlink:href=\"#DejaVuSans-6d\"/>\n       <use x=\"222.070312\" xlink:href=\"#DejaVuSans-2e\"/>\n      </g>\n     </g>\n    </g>\n    <g id=\"xtick_11\">\n     <g id=\"line2d_11\">\n      <g>\n       <use style=\"stroke:#000000;stroke-width:0.8;\" x=\"220.884711\" xlink:href=\"#m76f80afa97\" y=\"228.14\"/>\n      </g>\n     </g>\n     <g id=\"text_11\">\n      <!-- that -->\n      <g transform=\"translate(210.731586 242.738437)scale(0.1 -0.1)\">\n       <use xlink:href=\"#DejaVuSans-74\"/>\n       <use x=\"39.208984\" xlink:href=\"#DejaVuSans-68\"/>\n       <use x=\"102.587891\" xlink:href=\"#DejaVuSans-61\"/>\n       <use x=\"163.867188\" xlink:href=\"#DejaVuSans-74\"/>\n      </g>\n     </g>\n    </g>\n    <g id=\"xtick_12\">\n     <g id=\"line2d_12\">\n      <g>\n       <use style=\"stroke:#000000;stroke-width:0.8;\" x=\"236.256612\" xlink:href=\"#m76f80afa97\" y=\"228.14\"/>\n      </g>\n     </g>\n     <g id=\"text_12\">\n      <!-- it -->\n      <g transform=\"translate(232.907393 242.738437)scale(0.1 -0.1)\">\n       <use xlink:href=\"#DejaVuSans-69\"/>\n       <use x=\"27.783203\" xlink:href=\"#DejaVuSans-74\"/>\n      </g>\n     </g>\n    </g>\n    <g id=\"xtick_13\">\n     <g id=\"line2d_13\">\n      <g>\n       <use style=\"stroke:#000000;stroke-width:0.8;\" x=\"251.628512\" xlink:href=\"#m76f80afa97\" y=\"228.14\"/>\n      </g>\n     </g>\n     <g id=\"text_13\">\n      <!-- is -->\n      <defs>\n       <path d=\"M 44.28125 53.078125 \nL 44.28125 44.578125 \nQ 40.484375 46.53125 36.375 47.5 \nQ 32.28125 48.484375 27.875 48.484375 \nQ 21.1875 48.484375 17.84375 46.4375 \nQ 14.5 44.390625 14.5 40.28125 \nQ 14.5 37.15625 16.890625 35.375 \nQ 19.28125 33.59375 26.515625 31.984375 \nL 29.59375 31.296875 \nQ 39.15625 29.25 43.1875 25.515625 \nQ 47.21875 21.78125 47.21875 15.09375 \nQ 47.21875 7.46875 41.1875 3.015625 \nQ 35.15625 -1.421875 24.609375 -1.421875 \nQ 20.21875 -1.421875 15.453125 -0.5625 \nQ 10.6875 0.296875 5.421875 2 \nL 5.421875 11.28125 \nQ 10.40625 8.6875 15.234375 7.390625 \nQ 20.0625 6.109375 24.8125 6.109375 \nQ 31.15625 6.109375 34.5625 8.28125 \nQ 37.984375 10.453125 37.984375 14.40625 \nQ 37.984375 18.0625 35.515625 20.015625 \nQ 33.0625 21.96875 24.703125 23.78125 \nL 21.578125 24.515625 \nQ 13.234375 26.265625 9.515625 29.90625 \nQ 5.8125 33.546875 5.8125 39.890625 \nQ 5.8125 47.609375 11.28125 51.796875 \nQ 16.75 56 26.8125 56 \nQ 31.78125 56 36.171875 55.265625 \nQ 40.578125 54.546875 44.28125 53.078125 \nz\n\" id=\"DejaVuSans-73\"/>\n      </defs>\n      <g transform=\"translate(247.634762 242.738437)scale(0.1 -0.1)\">\n       <use xlink:href=\"#DejaVuSans-69\"/>\n       <use x=\"27.783203\" xlink:href=\"#DejaVuSans-73\"/>\n      </g>\n     </g>\n    </g>\n    <g id=\"xtick_14\">\n     <g id=\"line2d_14\">\n      <g>\n       <use style=\"stroke:#000000;stroke-width:0.8;\" x=\"267.000413\" xlink:href=\"#m76f80afa97\" y=\"228.14\"/>\n      </g>\n     </g>\n     <g id=\"text_14\">\n      <!-- his -->\n      <g transform=\"translate(259.837913 242.738437)scale(0.1 -0.1)\">\n       <use xlink:href=\"#DejaVuSans-68\"/>\n       <use x=\"63.378906\" xlink:href=\"#DejaVuSans-69\"/>\n       <use x=\"91.162109\" xlink:href=\"#DejaVuSans-73\"/>\n      </g>\n     </g>\n    </g>\n    <g id=\"xtick_15\">\n     <g id=\"line2d_15\">\n      <g>\n       <use style=\"stroke:#000000;stroke-width:0.8;\" x=\"282.372314\" xlink:href=\"#m76f80afa97\" y=\"228.14\"/>\n      </g>\n     </g>\n     <g id=\"text_15\">\n      <!-- not -->\n      <g transform=\"translate(274.184033 242.738437)scale(0.1 -0.1)\">\n       <use xlink:href=\"#DejaVuSans-6e\"/>\n       <use x=\"63.378906\" xlink:href=\"#DejaVuSans-6f\"/>\n       <use x=\"124.560547\" xlink:href=\"#DejaVuSans-74\"/>\n      </g>\n     </g>\n    </g>\n    <g id=\"xtick_16\">\n     <g id=\"line2d_16\">\n      <g>\n       <use style=\"stroke:#000000;stroke-width:0.8;\" x=\"297.744215\" xlink:href=\"#m76f80afa97\" y=\"228.14\"/>\n      </g>\n     </g>\n     <g id=\"text_16\">\n      <!-- with -->\n      <defs>\n       <path d=\"M 4.203125 54.6875 \nL 13.1875 54.6875 \nL 24.421875 12.015625 \nL 35.59375 54.6875 \nL 46.1875 54.6875 \nL 57.421875 12.015625 \nL 68.609375 54.6875 \nL 77.59375 54.6875 \nL 63.28125 0 \nL 52.6875 0 \nL 40.921875 44.828125 \nL 29.109375 0 \nL 18.5 0 \nz\n\" id=\"DejaVuSans-77\"/>\n      </defs>\n      <g transform=\"translate(287.137184 242.738437)scale(0.1 -0.1)\">\n       <use xlink:href=\"#DejaVuSans-77\"/>\n       <use x=\"81.787109\" xlink:href=\"#DejaVuSans-69\"/>\n       <use x=\"109.570312\" xlink:href=\"#DejaVuSans-74\"/>\n       <use x=\"148.779297\" xlink:href=\"#DejaVuSans-68\"/>\n      </g>\n     </g>\n    </g>\n    <g id=\"xtick_17\">\n     <g id=\"line2d_17\">\n      <g>\n       <use style=\"stroke:#000000;stroke-width:0.8;\" x=\"313.116116\" xlink:href=\"#m76f80afa97\" y=\"228.14\"/>\n      </g>\n     </g>\n     <g id=\"text_17\">\n      <!-- this -->\n      <g transform=\"translate(303.993459 242.738437)scale(0.1 -0.1)\">\n       <use xlink:href=\"#DejaVuSans-74\"/>\n       <use x=\"39.208984\" xlink:href=\"#DejaVuSans-68\"/>\n       <use x=\"102.587891\" xlink:href=\"#DejaVuSans-69\"/>\n       <use x=\"130.371094\" xlink:href=\"#DejaVuSans-73\"/>\n      </g>\n     </g>\n    </g>\n    <g id=\"xtick_18\">\n     <g id=\"line2d_18\">\n      <g>\n       <use style=\"stroke:#000000;stroke-width:0.8;\" x=\"328.488017\" xlink:href=\"#m76f80afa97\" y=\"228.14\"/>\n      </g>\n     </g>\n     <g id=\"text_18\">\n      <!-- your -->\n      <defs>\n       <path d=\"M 41.109375 46.296875 \nQ 39.59375 47.171875 37.8125 47.578125 \nQ 36.03125 48 33.890625 48 \nQ 26.265625 48 22.1875 43.046875 \nQ 18.109375 38.09375 18.109375 28.8125 \nL 18.109375 0 \nL 9.078125 0 \nL 9.078125 54.6875 \nL 18.109375 54.6875 \nL 18.109375 46.1875 \nQ 20.953125 51.171875 25.484375 53.578125 \nQ 30.03125 56 36.53125 56 \nQ 37.453125 56 38.578125 55.875 \nQ 39.703125 55.765625 41.0625 55.515625 \nz\n\" id=\"DejaVuSans-72\"/>\n      </defs>\n      <g transform=\"translate(317.245048 242.738437)scale(0.1 -0.1)\">\n       <use xlink:href=\"#DejaVuSans-79\"/>\n       <use x=\"59.179688\" xlink:href=\"#DejaVuSans-6f\"/>\n       <use x=\"120.361328\" xlink:href=\"#DejaVuSans-75\"/>\n       <use x=\"183.740234\" xlink:href=\"#DejaVuSans-72\"/>\n      </g>\n     </g>\n    </g>\n    <g id=\"xtick_19\">\n     <g id=\"line2d_19\">\n      <g>\n       <use style=\"stroke:#000000;stroke-width:0.8;\" x=\"343.859917\" xlink:href=\"#m76f80afa97\" y=\"228.14\"/>\n      </g>\n     </g>\n     <g id=\"text_19\">\n      <!-- for -->\n      <g transform=\"translate(336.984917 242.738437)scale(0.1 -0.1)\">\n       <use xlink:href=\"#DejaVuSans-66\"/>\n       <use x=\"35.205078\" xlink:href=\"#DejaVuSans-6f\"/>\n       <use x=\"96.386719\" xlink:href=\"#DejaVuSans-72\"/>\n      </g>\n     </g>\n    </g>\n    <g id=\"xtick_20\">\n     <g id=\"line2d_20\">\n      <g>\n       <use style=\"stroke:#000000;stroke-width:0.8;\" x=\"359.231818\" xlink:href=\"#m76f80afa97\" y=\"228.14\"/>\n      </g>\n     </g>\n     <g id=\"text_20\">\n      <!-- but -->\n      <defs>\n       <path d=\"M 48.6875 27.296875 \nQ 48.6875 37.203125 44.609375 42.84375 \nQ 40.53125 48.484375 33.40625 48.484375 \nQ 26.265625 48.484375 22.1875 42.84375 \nQ 18.109375 37.203125 18.109375 27.296875 \nQ 18.109375 17.390625 22.1875 11.75 \nQ 26.265625 6.109375 33.40625 6.109375 \nQ 40.53125 6.109375 44.609375 11.75 \nQ 48.6875 17.390625 48.6875 27.296875 \nz\nM 18.109375 46.390625 \nQ 20.953125 51.265625 25.265625 53.625 \nQ 29.59375 56 35.59375 56 \nQ 45.5625 56 51.78125 48.09375 \nQ 58.015625 40.1875 58.015625 27.296875 \nQ 58.015625 14.40625 51.78125 6.484375 \nQ 45.5625 -1.421875 35.59375 -1.421875 \nQ 29.59375 -1.421875 25.265625 0.953125 \nQ 20.953125 3.328125 18.109375 8.203125 \nL 18.109375 0 \nL 9.078125 0 \nL 9.078125 75.984375 \nL 18.109375 75.984375 \nz\n\" id=\"DejaVuSans-62\"/>\n      </defs>\n      <g transform=\"translate(350.928693 242.738437)scale(0.1 -0.1)\">\n       <use xlink:href=\"#DejaVuSans-62\"/>\n       <use x=\"63.476562\" xlink:href=\"#DejaVuSans-75\"/>\n       <use x=\"126.855469\" xlink:href=\"#DejaVuSans-74\"/>\n      </g>\n     </g>\n    </g>\n   </g>\n   <g id=\"matplotlib.axis_2\">\n    <g id=\"ytick_1\">\n     <g id=\"line2d_21\">\n      <defs>\n       <path d=\"M 0 0 \nL -3.5 0 \n\" id=\"m48911d2772\" style=\"stroke:#000000;stroke-width:0.8;\"/>\n      </defs>\n      <g>\n       <use style=\"stroke:#000000;stroke-width:0.8;\" x=\"39.65\" xlink:href=\"#m48911d2772\" y=\"228.14\"/>\n      </g>\n     </g>\n     <g id=\"text_21\">\n      <!-- 0 -->\n      <defs>\n       <path d=\"M 31.78125 66.40625 \nQ 24.171875 66.40625 20.328125 58.90625 \nQ 16.5 51.421875 16.5 36.375 \nQ 16.5 21.390625 20.328125 13.890625 \nQ 24.171875 6.390625 31.78125 6.390625 \nQ 39.453125 6.390625 43.28125 13.890625 \nQ 47.125 21.390625 47.125 36.375 \nQ 47.125 51.421875 43.28125 58.90625 \nQ 39.453125 66.40625 31.78125 66.40625 \nz\nM 31.78125 74.21875 \nQ 44.046875 74.21875 50.515625 64.515625 \nQ 56.984375 54.828125 56.984375 36.375 \nQ 56.984375 17.96875 50.515625 8.265625 \nQ 44.046875 -1.421875 31.78125 -1.421875 \nQ 19.53125 -1.421875 13.0625 8.265625 \nQ 6.59375 17.96875 6.59375 36.375 \nQ 6.59375 54.828125 13.0625 64.515625 \nQ 19.53125 74.21875 31.78125 74.21875 \nz\n\" id=\"DejaVuSans-30\"/>\n      </defs>\n      <g transform=\"translate(26.2875 231.939219)scale(0.1 -0.1)\">\n       <use xlink:href=\"#DejaVuSans-30\"/>\n      </g>\n     </g>\n    </g>\n    <g id=\"ytick_2\">\n     <g id=\"line2d_22\">\n      <g>\n       <use style=\"stroke:#000000;stroke-width:0.8;\" x=\"39.65\" xlink:href=\"#m48911d2772\" y=\"191.681247\"/>\n      </g>\n     </g>\n     <g id=\"text_22\">\n      <!-- 200 -->\n      <defs>\n       <path d=\"M 19.1875 8.296875 \nL 53.609375 8.296875 \nL 53.609375 0 \nL 7.328125 0 \nL 7.328125 8.296875 \nQ 12.9375 14.109375 22.625 23.890625 \nQ 32.328125 33.6875 34.8125 36.53125 \nQ 39.546875 41.84375 41.421875 45.53125 \nQ 43.3125 49.21875 43.3125 52.78125 \nQ 43.3125 58.59375 39.234375 62.25 \nQ 35.15625 65.921875 28.609375 65.921875 \nQ 23.96875 65.921875 18.8125 64.3125 \nQ 13.671875 62.703125 7.8125 59.421875 \nL 7.8125 69.390625 \nQ 13.765625 71.78125 18.9375 73 \nQ 24.125 74.21875 28.421875 74.21875 \nQ 39.75 74.21875 46.484375 68.546875 \nQ 53.21875 62.890625 53.21875 53.421875 \nQ 53.21875 48.921875 51.53125 44.890625 \nQ 49.859375 40.875 45.40625 35.40625 \nQ 44.1875 33.984375 37.640625 27.21875 \nQ 31.109375 20.453125 19.1875 8.296875 \nz\n\" id=\"DejaVuSans-32\"/>\n      </defs>\n      <g transform=\"translate(13.5625 195.480466)scale(0.1 -0.1)\">\n       <use xlink:href=\"#DejaVuSans-32\"/>\n       <use x=\"63.623047\" xlink:href=\"#DejaVuSans-30\"/>\n       <use x=\"127.246094\" xlink:href=\"#DejaVuSans-30\"/>\n      </g>\n     </g>\n    </g>\n    <g id=\"ytick_3\">\n     <g id=\"line2d_23\">\n      <g>\n       <use style=\"stroke:#000000;stroke-width:0.8;\" x=\"39.65\" xlink:href=\"#m48911d2772\" y=\"155.222495\"/>\n      </g>\n     </g>\n     <g id=\"text_23\">\n      <!-- 400 -->\n      <defs>\n       <path d=\"M 37.796875 64.3125 \nL 12.890625 25.390625 \nL 37.796875 25.390625 \nz\nM 35.203125 72.90625 \nL 47.609375 72.90625 \nL 47.609375 25.390625 \nL 58.015625 25.390625 \nL 58.015625 17.1875 \nL 47.609375 17.1875 \nL 47.609375 0 \nL 37.796875 0 \nL 37.796875 17.1875 \nL 4.890625 17.1875 \nL 4.890625 26.703125 \nz\n\" id=\"DejaVuSans-34\"/>\n      </defs>\n      <g transform=\"translate(13.5625 159.021714)scale(0.1 -0.1)\">\n       <use xlink:href=\"#DejaVuSans-34\"/>\n       <use x=\"63.623047\" xlink:href=\"#DejaVuSans-30\"/>\n       <use x=\"127.246094\" xlink:href=\"#DejaVuSans-30\"/>\n      </g>\n     </g>\n    </g>\n    <g id=\"ytick_4\">\n     <g id=\"line2d_24\">\n      <g>\n       <use style=\"stroke:#000000;stroke-width:0.8;\" x=\"39.65\" xlink:href=\"#m48911d2772\" y=\"118.763742\"/>\n      </g>\n     </g>\n     <g id=\"text_24\">\n      <!-- 600 -->\n      <defs>\n       <path d=\"M 33.015625 40.375 \nQ 26.375 40.375 22.484375 35.828125 \nQ 18.609375 31.296875 18.609375 23.390625 \nQ 18.609375 15.53125 22.484375 10.953125 \nQ 26.375 6.390625 33.015625 6.390625 \nQ 39.65625 6.390625 43.53125 10.953125 \nQ 47.40625 15.53125 47.40625 23.390625 \nQ 47.40625 31.296875 43.53125 35.828125 \nQ 39.65625 40.375 33.015625 40.375 \nz\nM 52.59375 71.296875 \nL 52.59375 62.3125 \nQ 48.875 64.0625 45.09375 64.984375 \nQ 41.3125 65.921875 37.59375 65.921875 \nQ 27.828125 65.921875 22.671875 59.328125 \nQ 17.53125 52.734375 16.796875 39.40625 \nQ 19.671875 43.65625 24.015625 45.921875 \nQ 28.375 48.1875 33.59375 48.1875 \nQ 44.578125 48.1875 50.953125 41.515625 \nQ 57.328125 34.859375 57.328125 23.390625 \nQ 57.328125 12.15625 50.6875 5.359375 \nQ 44.046875 -1.421875 33.015625 -1.421875 \nQ 20.359375 -1.421875 13.671875 8.265625 \nQ 6.984375 17.96875 6.984375 36.375 \nQ 6.984375 53.65625 15.1875 63.9375 \nQ 23.390625 74.21875 37.203125 74.21875 \nQ 40.921875 74.21875 44.703125 73.484375 \nQ 48.484375 72.75 52.59375 71.296875 \nz\n\" id=\"DejaVuSans-36\"/>\n      </defs>\n      <g transform=\"translate(13.5625 122.562961)scale(0.1 -0.1)\">\n       <use xlink:href=\"#DejaVuSans-36\"/>\n       <use x=\"63.623047\" xlink:href=\"#DejaVuSans-30\"/>\n       <use x=\"127.246094\" xlink:href=\"#DejaVuSans-30\"/>\n      </g>\n     </g>\n    </g>\n    <g id=\"ytick_5\">\n     <g id=\"line2d_25\">\n      <g>\n       <use style=\"stroke:#000000;stroke-width:0.8;\" x=\"39.65\" xlink:href=\"#m48911d2772\" y=\"82.30499\"/>\n      </g>\n     </g>\n     <g id=\"text_25\">\n      <!-- 800 -->\n      <defs>\n       <path d=\"M 31.78125 34.625 \nQ 24.75 34.625 20.71875 30.859375 \nQ 16.703125 27.09375 16.703125 20.515625 \nQ 16.703125 13.921875 20.71875 10.15625 \nQ 24.75 6.390625 31.78125 6.390625 \nQ 38.8125 6.390625 42.859375 10.171875 \nQ 46.921875 13.96875 46.921875 20.515625 \nQ 46.921875 27.09375 42.890625 30.859375 \nQ 38.875 34.625 31.78125 34.625 \nz\nM 21.921875 38.8125 \nQ 15.578125 40.375 12.03125 44.71875 \nQ 8.5 49.078125 8.5 55.328125 \nQ 8.5 64.0625 14.71875 69.140625 \nQ 20.953125 74.21875 31.78125 74.21875 \nQ 42.671875 74.21875 48.875 69.140625 \nQ 55.078125 64.0625 55.078125 55.328125 \nQ 55.078125 49.078125 51.53125 44.71875 \nQ 48 40.375 41.703125 38.8125 \nQ 48.828125 37.15625 52.796875 32.3125 \nQ 56.78125 27.484375 56.78125 20.515625 \nQ 56.78125 9.90625 50.3125 4.234375 \nQ 43.84375 -1.421875 31.78125 -1.421875 \nQ 19.734375 -1.421875 13.25 4.234375 \nQ 6.78125 9.90625 6.78125 20.515625 \nQ 6.78125 27.484375 10.78125 32.3125 \nQ 14.796875 37.15625 21.921875 38.8125 \nz\nM 18.3125 54.390625 \nQ 18.3125 48.734375 21.84375 45.5625 \nQ 25.390625 42.390625 31.78125 42.390625 \nQ 38.140625 42.390625 41.71875 45.5625 \nQ 45.3125 48.734375 45.3125 54.390625 \nQ 45.3125 60.0625 41.71875 63.234375 \nQ 38.140625 66.40625 31.78125 66.40625 \nQ 25.390625 66.40625 21.84375 63.234375 \nQ 18.3125 60.0625 18.3125 54.390625 \nz\n\" id=\"DejaVuSans-38\"/>\n      </defs>\n      <g transform=\"translate(13.5625 86.104209)scale(0.1 -0.1)\">\n       <use xlink:href=\"#DejaVuSans-38\"/>\n       <use x=\"63.623047\" xlink:href=\"#DejaVuSans-30\"/>\n       <use x=\"127.246094\" xlink:href=\"#DejaVuSans-30\"/>\n      </g>\n     </g>\n    </g>\n    <g id=\"ytick_6\">\n     <g id=\"line2d_26\">\n      <g>\n       <use style=\"stroke:#000000;stroke-width:0.8;\" x=\"39.65\" xlink:href=\"#m48911d2772\" y=\"45.846237\"/>\n      </g>\n     </g>\n     <g id=\"text_26\">\n      <!-- 1000 -->\n      <defs>\n       <path d=\"M 12.40625 8.296875 \nL 28.515625 8.296875 \nL 28.515625 63.921875 \nL 10.984375 60.40625 \nL 10.984375 69.390625 \nL 28.421875 72.90625 \nL 38.28125 72.90625 \nL 38.28125 8.296875 \nL 54.390625 8.296875 \nL 54.390625 0 \nL 12.40625 0 \nz\n\" id=\"DejaVuSans-31\"/>\n      </defs>\n      <g transform=\"translate(7.2 49.645456)scale(0.1 -0.1)\">\n       <use xlink:href=\"#DejaVuSans-31\"/>\n       <use x=\"63.623047\" xlink:href=\"#DejaVuSans-30\"/>\n       <use x=\"127.246094\" xlink:href=\"#DejaVuSans-30\"/>\n       <use x=\"190.869141\" xlink:href=\"#DejaVuSans-30\"/>\n      </g>\n     </g>\n    </g>\n   </g>\n   <g id=\"patch_23\">\n    <path d=\"M 39.65 228.14 \nL 39.65 10.7 \n\" style=\"fill:none;stroke:#000000;stroke-linecap:square;stroke-linejoin:miter;stroke-width:0.8;\"/>\n   </g>\n   <g id=\"patch_24\">\n    <path d=\"M 374.45 228.14 \nL 374.45 10.7 \n\" style=\"fill:none;stroke:#000000;stroke-linecap:square;stroke-linejoin:miter;stroke-width:0.8;\"/>\n   </g>\n   <g id=\"patch_25\">\n    <path d=\"M 39.65 228.14 \nL 374.45 228.14 \n\" style=\"fill:none;stroke:#000000;stroke-linecap:square;stroke-linejoin:miter;stroke-width:0.8;\"/>\n   </g>\n   <g id=\"patch_26\">\n    <path d=\"M 39.65 10.7 \nL 374.45 10.7 \n\" style=\"fill:none;stroke:#000000;stroke-linecap:square;stroke-linejoin:miter;stroke-width:0.8;\"/>\n   </g>\n  </g>\n </g>\n <defs>\n  <clipPath id=\"pec7a3f2bac\">\n   <rect height=\"217.44\" width=\"334.8\" x=\"39.65\" y=\"10.7\"/>\n  </clipPath>\n </defs>\n</svg>\n"
     },
     "metadata": {
      "needs_background": "light"
     }
    }
   ],
   "source": [
    "topfreq=L[:20]\n",
    "print topfreq\n",
    "pos = np.arange(len(topfreq))\n",
    "plt.bar(pos, [e[1] for e in topfreq]);\n",
    "plt.xticks(pos+0.4, [e[0] for e in topfreq]);"
   ]
  }
 ],
 "metadata": {
  "kernelspec": {
   "name": "python3",
   "display_name": "Python 2.7.18 64-bit",
   "metadata": {
    "interpreter": {
     "hash": "f92b2924b84ff19c1c3dc485f7644d4486f64738191026bf8e6de303969141b5"
    }
   }
  },
  "language_info": {
   "codemirror_mode": {
    "name": "ipython",
    "version": 3
   },
   "file_extension": ".py",
   "mimetype": "text/x-python",
   "name": "python",
   "nbconvert_exporter": "python",
   "pygments_lexer": "ipython3",
   "version": "2.7.18-final"
  }
 },
 "nbformat": 4,
 "nbformat_minor": 1
}